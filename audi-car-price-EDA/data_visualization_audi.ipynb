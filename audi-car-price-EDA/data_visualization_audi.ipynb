{
 "cells": [
  {
   "cell_type": "markdown",
   "id": "9077b5c8",
   "metadata": {},
   "source": [
    "01. Importing Libraries"
   ]
  },
  {
   "cell_type": "code",
   "execution_count": 1,
   "id": "4c7bb16a",
   "metadata": {},
   "outputs": [],
   "source": [
    "import numpy as np\n",
    "import pandas as pd\n",
    "import matplotlib.pyplot as plt\n",
    "import seaborn as sns"
   ]
  },
  {
   "cell_type": "markdown",
   "id": "0fb957ac",
   "metadata": {},
   "source": [
    "02. Importing CSV File from computer"
   ]
  },
  {
   "cell_type": "code",
   "execution_count": 2,
   "id": "5881913f",
   "metadata": {},
   "outputs": [
    {
     "name": "stdout",
     "output_type": "stream",
     "text": [
      "<class 'pandas.core.frame.DataFrame'>\n"
     ]
    },
    {
     "data": {
      "text/html": [
       "<div>\n",
       "<style scoped>\n",
       "    .dataframe tbody tr th:only-of-type {\n",
       "        vertical-align: middle;\n",
       "    }\n",
       "\n",
       "    .dataframe tbody tr th {\n",
       "        vertical-align: top;\n",
       "    }\n",
       "\n",
       "    .dataframe thead th {\n",
       "        text-align: right;\n",
       "    }\n",
       "</style>\n",
       "<table border=\"1\" class=\"dataframe\">\n",
       "  <thead>\n",
       "    <tr style=\"text-align: right;\">\n",
       "      <th></th>\n",
       "      <th>model</th>\n",
       "      <th>year</th>\n",
       "      <th>price</th>\n",
       "      <th>transmission</th>\n",
       "      <th>mileage</th>\n",
       "      <th>fuelType</th>\n",
       "      <th>tax</th>\n",
       "      <th>mpg</th>\n",
       "      <th>engineSize</th>\n",
       "    </tr>\n",
       "  </thead>\n",
       "  <tbody>\n",
       "    <tr>\n",
       "      <th>0</th>\n",
       "      <td>A1</td>\n",
       "      <td>2017</td>\n",
       "      <td>12500</td>\n",
       "      <td>Manual</td>\n",
       "      <td>15735</td>\n",
       "      <td>Petrol</td>\n",
       "      <td>150</td>\n",
       "      <td>55.4</td>\n",
       "      <td>1.4</td>\n",
       "    </tr>\n",
       "    <tr>\n",
       "      <th>1</th>\n",
       "      <td>A6</td>\n",
       "      <td>2016</td>\n",
       "      <td>16500</td>\n",
       "      <td>Automatic</td>\n",
       "      <td>36203</td>\n",
       "      <td>Diesel</td>\n",
       "      <td>20</td>\n",
       "      <td>64.2</td>\n",
       "      <td>2.0</td>\n",
       "    </tr>\n",
       "    <tr>\n",
       "      <th>2</th>\n",
       "      <td>A1</td>\n",
       "      <td>2016</td>\n",
       "      <td>11000</td>\n",
       "      <td>Manual</td>\n",
       "      <td>29946</td>\n",
       "      <td>Petrol</td>\n",
       "      <td>30</td>\n",
       "      <td>55.4</td>\n",
       "      <td>1.4</td>\n",
       "    </tr>\n",
       "    <tr>\n",
       "      <th>3</th>\n",
       "      <td>A4</td>\n",
       "      <td>2017</td>\n",
       "      <td>16800</td>\n",
       "      <td>Automatic</td>\n",
       "      <td>25952</td>\n",
       "      <td>Diesel</td>\n",
       "      <td>145</td>\n",
       "      <td>67.3</td>\n",
       "      <td>2.0</td>\n",
       "    </tr>\n",
       "    <tr>\n",
       "      <th>4</th>\n",
       "      <td>A3</td>\n",
       "      <td>2019</td>\n",
       "      <td>17300</td>\n",
       "      <td>Manual</td>\n",
       "      <td>1998</td>\n",
       "      <td>Petrol</td>\n",
       "      <td>145</td>\n",
       "      <td>49.6</td>\n",
       "      <td>1.0</td>\n",
       "    </tr>\n",
       "  </tbody>\n",
       "</table>\n",
       "</div>"
      ],
      "text/plain": [
       "  model  year  price transmission  mileage fuelType  tax   mpg  engineSize\n",
       "0    A1  2017  12500       Manual    15735   Petrol  150  55.4         1.4\n",
       "1    A6  2016  16500    Automatic    36203   Diesel   20  64.2         2.0\n",
       "2    A1  2016  11000       Manual    29946   Petrol   30  55.4         1.4\n",
       "3    A4  2017  16800    Automatic    25952   Diesel  145  67.3         2.0\n",
       "4    A3  2019  17300       Manual     1998   Petrol  145  49.6         1.0"
      ]
     },
     "metadata": {},
     "output_type": "display_data"
    },
    {
     "data": {
      "text/html": [
       "<div>\n",
       "<style scoped>\n",
       "    .dataframe tbody tr th:only-of-type {\n",
       "        vertical-align: middle;\n",
       "    }\n",
       "\n",
       "    .dataframe tbody tr th {\n",
       "        vertical-align: top;\n",
       "    }\n",
       "\n",
       "    .dataframe thead th {\n",
       "        text-align: right;\n",
       "    }\n",
       "</style>\n",
       "<table border=\"1\" class=\"dataframe\">\n",
       "  <thead>\n",
       "    <tr style=\"text-align: right;\">\n",
       "      <th></th>\n",
       "      <th>model</th>\n",
       "      <th>year</th>\n",
       "      <th>price</th>\n",
       "      <th>transmission</th>\n",
       "      <th>mileage</th>\n",
       "      <th>fuelType</th>\n",
       "      <th>tax</th>\n",
       "      <th>mpg</th>\n",
       "      <th>engineSize</th>\n",
       "    </tr>\n",
       "  </thead>\n",
       "  <tbody>\n",
       "    <tr>\n",
       "      <th>10663</th>\n",
       "      <td>A3</td>\n",
       "      <td>2020</td>\n",
       "      <td>16999</td>\n",
       "      <td>Manual</td>\n",
       "      <td>4018</td>\n",
       "      <td>Petrol</td>\n",
       "      <td>145</td>\n",
       "      <td>49.6</td>\n",
       "      <td>1.0</td>\n",
       "    </tr>\n",
       "    <tr>\n",
       "      <th>10664</th>\n",
       "      <td>A3</td>\n",
       "      <td>2020</td>\n",
       "      <td>16999</td>\n",
       "      <td>Manual</td>\n",
       "      <td>1978</td>\n",
       "      <td>Petrol</td>\n",
       "      <td>150</td>\n",
       "      <td>49.6</td>\n",
       "      <td>1.0</td>\n",
       "    </tr>\n",
       "    <tr>\n",
       "      <th>10665</th>\n",
       "      <td>A3</td>\n",
       "      <td>2020</td>\n",
       "      <td>17199</td>\n",
       "      <td>Manual</td>\n",
       "      <td>609</td>\n",
       "      <td>Petrol</td>\n",
       "      <td>150</td>\n",
       "      <td>49.6</td>\n",
       "      <td>1.0</td>\n",
       "    </tr>\n",
       "    <tr>\n",
       "      <th>10666</th>\n",
       "      <td>Q3</td>\n",
       "      <td>2017</td>\n",
       "      <td>19499</td>\n",
       "      <td>Automatic</td>\n",
       "      <td>8646</td>\n",
       "      <td>Petrol</td>\n",
       "      <td>150</td>\n",
       "      <td>47.9</td>\n",
       "      <td>1.4</td>\n",
       "    </tr>\n",
       "    <tr>\n",
       "      <th>10667</th>\n",
       "      <td>Q3</td>\n",
       "      <td>2016</td>\n",
       "      <td>15999</td>\n",
       "      <td>Manual</td>\n",
       "      <td>11855</td>\n",
       "      <td>Petrol</td>\n",
       "      <td>150</td>\n",
       "      <td>47.9</td>\n",
       "      <td>1.4</td>\n",
       "    </tr>\n",
       "  </tbody>\n",
       "</table>\n",
       "</div>"
      ],
      "text/plain": [
       "      model  year  price transmission  mileage fuelType  tax   mpg  engineSize\n",
       "10663    A3  2020  16999       Manual     4018   Petrol  145  49.6         1.0\n",
       "10664    A3  2020  16999       Manual     1978   Petrol  150  49.6         1.0\n",
       "10665    A3  2020  17199       Manual      609   Petrol  150  49.6         1.0\n",
       "10666    Q3  2017  19499    Automatic     8646   Petrol  150  47.9         1.4\n",
       "10667    Q3  2016  15999       Manual    11855   Petrol  150  47.9         1.4"
      ]
     },
     "metadata": {},
     "output_type": "display_data"
    }
   ],
   "source": [
    "df = pd.read_csv(\"audi.csv\")\n",
    "print(type(df))\n",
    "display(df.head())\n",
    "display(df.tail())"
   ]
  },
  {
   "cell_type": "markdown",
   "id": "31cbb12e",
   "metadata": {},
   "source": [
    "03. Viewing the informations"
   ]
  },
  {
   "cell_type": "code",
   "execution_count": 3,
   "id": "6b2b9652",
   "metadata": {
    "scrolled": true
   },
   "outputs": [
    {
     "name": "stdout",
     "output_type": "stream",
     "text": [
      "<class 'pandas.core.frame.DataFrame'>\n",
      "RangeIndex: 10668 entries, 0 to 10667\n",
      "Data columns (total 9 columns):\n",
      " #   Column        Non-Null Count  Dtype  \n",
      "---  ------        --------------  -----  \n",
      " 0   model         10668 non-null  object \n",
      " 1   year          10668 non-null  int64  \n",
      " 2   price         10668 non-null  int64  \n",
      " 3   transmission  10668 non-null  object \n",
      " 4   mileage       10668 non-null  int64  \n",
      " 5   fuelType      10668 non-null  object \n",
      " 6   tax           10668 non-null  int64  \n",
      " 7   mpg           10668 non-null  float64\n",
      " 8   engineSize    10668 non-null  float64\n",
      "dtypes: float64(2), int64(4), object(3)\n",
      "memory usage: 750.2+ KB\n"
     ]
    }
   ],
   "source": [
    "df.info()"
   ]
  },
  {
   "cell_type": "code",
   "execution_count": 4,
   "id": "4f64fd4b",
   "metadata": {},
   "outputs": [
    {
     "name": "stdout",
     "output_type": "stream",
     "text": [
      "(10668, 9)\n"
     ]
    }
   ],
   "source": [
    "print(df.shape)"
   ]
  },
  {
   "cell_type": "code",
   "execution_count": 5,
   "id": "6174b788",
   "metadata": {},
   "outputs": [
    {
     "name": "stdout",
     "output_type": "stream",
     "text": [
      "No. of Rows: 10668\n",
      "No. of Columns: 9\n"
     ]
    }
   ],
   "source": [
    "print(\"No. of Rows:\", df.shape[0])\n",
    "print(\"No. of Columns:\", df.shape[1])"
   ]
  },
  {
   "cell_type": "markdown",
   "id": "612a1235",
   "metadata": {},
   "source": [
    "04. Viewing the unique value"
   ]
  },
  {
   "cell_type": "code",
   "execution_count": 6,
   "id": "1d270c60",
   "metadata": {},
   "outputs": [
    {
     "name": "stdout",
     "output_type": "stream",
     "text": [
      "[2017 2016 2019 2015 2014 2018 2013 2020 2004 2009 2012 2010 2007 2011\n",
      " 2008 2003 2005 2002 2006 1998 1997]\n",
      "21\n",
      "<class 'method'>\n"
     ]
    }
   ],
   "source": [
    "print(df[\"year\"].unique())\n",
    "print(len(df[\"year\"].unique()))\n",
    "print(type(df[\"year\"].unique))\n"
   ]
  },
  {
   "cell_type": "markdown",
   "id": "5e3c4a7f",
   "metadata": {},
   "source": [
    "05. All unique Value shown"
   ]
  },
  {
   "cell_type": "code",
   "execution_count": 7,
   "id": "0a59e79c",
   "metadata": {},
   "outputs": [
    {
     "name": "stdout",
     "output_type": "stream",
     "text": [
      " A3     1929\n",
      " Q3     1417\n",
      " A4     1381\n",
      " A1     1347\n",
      " A5      882\n",
      " Q5      877\n",
      " Q2      822\n",
      " A6      748\n",
      " Q7      397\n",
      " TT      336\n",
      " A7      122\n",
      " A8      118\n",
      " Q8       69\n",
      " RS6      39\n",
      " RS3      33\n",
      " RS4      31\n",
      " RS5      29\n",
      " R8       28\n",
      " S3       18\n",
      " SQ5      16\n",
      " S4       12\n",
      " SQ7       8\n",
      " S8        4\n",
      " S5        3\n",
      " A2        1\n",
      " RS7       1\n",
      "Name: model, dtype: int64\n"
     ]
    }
   ],
   "source": [
    "print(df[\"model\"].value_counts())"
   ]
  },
  {
   "cell_type": "code",
   "execution_count": 8,
   "id": "bc2f9ae5",
   "metadata": {},
   "outputs": [
    {
     "name": "stdout",
     "output_type": "stream",
     "text": [
      "2019    3197\n",
      "2016    1964\n",
      "2017    1935\n",
      "2015     999\n",
      "2018     864\n",
      "2020     716\n",
      "2014     447\n",
      "2013     291\n",
      "2012      85\n",
      "2011      47\n",
      "2010      32\n",
      "2009      23\n",
      "2008      21\n",
      "2007      16\n",
      "2006       9\n",
      "2005       7\n",
      "2003       6\n",
      "2004       5\n",
      "2002       2\n",
      "1998       1\n",
      "1997       1\n",
      "Name: year, dtype: int64\n"
     ]
    }
   ],
   "source": [
    "print(df[\"year\"].value_counts())"
   ]
  },
  {
   "cell_type": "code",
   "execution_count": 9,
   "id": "31790ace",
   "metadata": {},
   "outputs": [
    {
     "name": "stdout",
     "output_type": "stream",
     "text": [
      "Diesel    5577\n",
      "Petrol    5063\n",
      "Hybrid      28\n",
      "Name: fuelType, dtype: int64\n"
     ]
    }
   ],
   "source": [
    "print(df[\"fuelType\"].value_counts())"
   ]
  },
  {
   "cell_type": "code",
   "execution_count": 10,
   "id": "af458c2a",
   "metadata": {},
   "outputs": [
    {
     "name": "stdout",
     "output_type": "stream",
     "text": [
      "Manual       4369\n",
      "Semi-Auto    3591\n",
      "Automatic    2708\n",
      "Name: transmission, dtype: int64\n"
     ]
    }
   ],
   "source": [
    "print(df[\"transmission\"].value_counts())"
   ]
  },
  {
   "cell_type": "markdown",
   "id": "d4f87023",
   "metadata": {},
   "source": [
    "06. Showing the graphs"
   ]
  },
  {
   "cell_type": "code",
   "execution_count": 11,
   "id": "43dd2ff2",
   "metadata": {},
   "outputs": [
    {
     "data": {
      "image/png": "[encoded data removed]",
      "text/plain": [
       "<Figure size 432x288 with 1 Axes>"
      ]
     },
     "metadata": {},
     "output_type": "display_data"
    }
   ],
   "source": [
    "df[\"transmission\"].value_counts().plot(kind='pie',  autopct='%1.1f%%', startangle=180) #autopct shows the percentage\n",
    "plt.ylabel(\"\") #Hide the y axis value\n",
    "plt.title(\"Showing the Gear Treansmission System of Different AUDI Cars\")\n",
    "plt.show() #Hide the top values"
   ]
  },
  {
   "cell_type": "code",
   "execution_count": 12,
   "id": "5d52d3f0",
   "metadata": {},
   "outputs": [
    {
     "data": {
      "text/plain": [
       "<AxesSubplot:>"
      ]
     },
     "execution_count": 12,
     "metadata": {},
     "output_type": "execute_result"
    },
    {
     "data": {
      "image/png": "[encoded data removed]",
      "text/plain": [
       "<Figure size 432x288 with 1 Axes>"
      ]
     },
     "metadata": {
      "needs_background": "light"
     },
     "output_type": "display_data"
    }
   ],
   "source": [
    "df[\"fuelType\"].value_counts().plot(kind='bar')"
   ]
  },
  {
   "cell_type": "code",
   "execution_count": 13,
   "id": "d7844df2",
   "metadata": {},
   "outputs": [
    {
     "name": "stdout",
     "output_type": "stream",
     "text": [
      "Diesel    5577\n",
      "Petrol    5063\n",
      "Hybrid      28\n",
      "Name: fuelType, dtype: int64\n",
      "<class 'pandas.core.series.Series'>\n",
      "<class 'pandas.core.frame.DataFrame'>\n"
     ]
    },
    {
     "data": {
      "text/html": [
       "<div>\n",
       "<style scoped>\n",
       "    .dataframe tbody tr th:only-of-type {\n",
       "        vertical-align: middle;\n",
       "    }\n",
       "\n",
       "    .dataframe tbody tr th {\n",
       "        vertical-align: top;\n",
       "    }\n",
       "\n",
       "    .dataframe thead th {\n",
       "        text-align: right;\n",
       "    }\n",
       "</style>\n",
       "<table border=\"1\" class=\"dataframe\">\n",
       "  <thead>\n",
       "    <tr style=\"text-align: right;\">\n",
       "      <th></th>\n",
       "      <th>fuelType</th>\n",
       "    </tr>\n",
       "  </thead>\n",
       "  <tbody>\n",
       "    <tr>\n",
       "      <th>Diesel</th>\n",
       "      <td>5577</td>\n",
       "    </tr>\n",
       "    <tr>\n",
       "      <th>Petrol</th>\n",
       "      <td>5063</td>\n",
       "    </tr>\n",
       "    <tr>\n",
       "      <th>Hybrid</th>\n",
       "      <td>28</td>\n",
       "    </tr>\n",
       "  </tbody>\n",
       "</table>\n",
       "</div>"
      ],
      "text/plain": [
       "        fuelType\n",
       "Diesel      5577\n",
       "Petrol      5063\n",
       "Hybrid        28"
      ]
     },
     "metadata": {},
     "output_type": "display_data"
    },
    {
     "name": "stdout",
     "output_type": "stream",
     "text": [
      "Index(['Diesel', 'Petrol', 'Hybrid'], dtype='object')\n",
      "Index(['fuelType'], dtype='object')\n"
     ]
    }
   ],
   "source": [
    "print(df[\"fuelType\"].value_counts())\n",
    "print(type(df[\"fuelType\"].value_counts()))\n",
    "\n",
    "\n",
    "#Chnaging the data from series to dataframe structure\n",
    "\n",
    "df_fuelType=pd.DataFrame(df[\"fuelType\"].value_counts()) \n",
    "print(type(df_fuelType))\n",
    "display(df_fuelType)\n",
    "\n",
    "print(df_fuelType.index)\n",
    "print(df_fuelType.columns)"
   ]
  },
  {
   "cell_type": "code",
   "execution_count": 14,
   "id": "cfc5749e",
   "metadata": {},
   "outputs": [
    {
     "data": {
      "text/html": [
       "<div>\n",
       "<style scoped>\n",
       "    .dataframe tbody tr th:only-of-type {\n",
       "        vertical-align: middle;\n",
       "    }\n",
       "\n",
       "    .dataframe tbody tr th {\n",
       "        vertical-align: top;\n",
       "    }\n",
       "\n",
       "    .dataframe thead th {\n",
       "        text-align: right;\n",
       "    }\n",
       "</style>\n",
       "<table border=\"1\" class=\"dataframe\">\n",
       "  <thead>\n",
       "    <tr style=\"text-align: right;\">\n",
       "      <th></th>\n",
       "      <th>index</th>\n",
       "      <th>fuelType</th>\n",
       "    </tr>\n",
       "  </thead>\n",
       "  <tbody>\n",
       "    <tr>\n",
       "      <th>0</th>\n",
       "      <td>Diesel</td>\n",
       "      <td>5577</td>\n",
       "    </tr>\n",
       "    <tr>\n",
       "      <th>1</th>\n",
       "      <td>Petrol</td>\n",
       "      <td>5063</td>\n",
       "    </tr>\n",
       "    <tr>\n",
       "      <th>2</th>\n",
       "      <td>Hybrid</td>\n",
       "      <td>28</td>\n",
       "    </tr>\n",
       "  </tbody>\n",
       "</table>\n",
       "</div>"
      ],
      "text/plain": [
       "    index  fuelType\n",
       "0  Diesel      5577\n",
       "1  Petrol      5063\n",
       "2  Hybrid        28"
      ]
     },
     "metadata": {},
     "output_type": "display_data"
    },
    {
     "data": {
      "text/html": [
       "<div>\n",
       "<style scoped>\n",
       "    .dataframe tbody tr th:only-of-type {\n",
       "        vertical-align: middle;\n",
       "    }\n",
       "\n",
       "    .dataframe tbody tr th {\n",
       "        vertical-align: top;\n",
       "    }\n",
       "\n",
       "    .dataframe thead th {\n",
       "        text-align: right;\n",
       "    }\n",
       "</style>\n",
       "<table border=\"1\" class=\"dataframe\">\n",
       "  <thead>\n",
       "    <tr style=\"text-align: right;\">\n",
       "      <th></th>\n",
       "      <th>Fuel Type</th>\n",
       "      <th>No of Cars</th>\n",
       "    </tr>\n",
       "  </thead>\n",
       "  <tbody>\n",
       "    <tr>\n",
       "      <th>0</th>\n",
       "      <td>Diesel</td>\n",
       "      <td>5577</td>\n",
       "    </tr>\n",
       "    <tr>\n",
       "      <th>1</th>\n",
       "      <td>Petrol</td>\n",
       "      <td>5063</td>\n",
       "    </tr>\n",
       "    <tr>\n",
       "      <th>2</th>\n",
       "      <td>Hybrid</td>\n",
       "      <td>28</td>\n",
       "    </tr>\n",
       "  </tbody>\n",
       "</table>\n",
       "</div>"
      ],
      "text/plain": [
       "  Fuel Type  No of Cars\n",
       "0    Diesel        5577\n",
       "1    Petrol        5063\n",
       "2    Hybrid          28"
      ]
     },
     "metadata": {},
     "output_type": "display_data"
    }
   ],
   "source": [
    "# resetting the indexes\n",
    "df_fuelType = pd.DataFrame(df[\"fuelType\"].value_counts())\n",
    "df_fuelType = df_fuelType.reset_index()\n",
    "display(df_fuelType)\n",
    "\n",
    "\n",
    "# Changing the heading values\n",
    "df_fuelType=df_fuelType.rename(columns={\"index\":\"Fuel Type\",\n",
    "                                      \"fuelType\":\"No of Cars\"})\n",
    "display(df_fuelType)"
   ]
  },
  {
   "cell_type": "code",
   "execution_count": 54,
   "id": "79c751d7",
   "metadata": {},
   "outputs": [
    {
     "data": {
      "image/png": "[encoded data removed]",
      "text/plain": [
       "<Figure size 432x288 with 1 Axes>"
      ]
     },
     "metadata": {
      "needs_background": "light"
     },
     "output_type": "display_data"
    }
   ],
   "source": [
    "sns.set_context(\"paper\")\n",
    "sns.barplot( data = df_fuelType,\n",
    "            x=\"Fuel Type\",\n",
    "           y=\"No of Cars\",\n",
    "           color=\"green\",\n",
    "           alpha=0.7)\n",
    "plt.xlabel(\"Types of Fuel\")\n",
    "plt.ylabel(\"Number of Cars\")\n",
    "plt.yticks(np.arange(0,6001,1000))\n",
    "# plt.grid()\n",
    "plt.show()"
   ]
  },
  {
   "cell_type": "code",
   "execution_count": 51,
   "id": "bb1a8a1f",
   "metadata": {},
   "outputs": [
    {
     "data": {
      "image/png": "[encoded data removed]",
      "text/plain": [
       "<Figure size 864x432 with 1 Axes>"
      ]
     },
     "metadata": {
      "needs_background": "light"
     },
     "output_type": "display_data"
    }
   ],
   "source": [
    "sns.set_context(\"talk\")\n",
    "df_model = pd.DataFrame(df[\"model\"].value_counts())\n",
    "df_model = df_model.reset_index()\n",
    "\n",
    "df_model=df_model.rename(columns={\"index\":\"Model\",\n",
    "                                      \"model\":\"No of Cars\"})\n",
    "\n",
    "plt.figure(figsize=(12,6))\n",
    "sns.barplot( data = df_model,\n",
    "            x=\"Model\",\n",
    "           y=\"No of Cars\",\n",
    "           color=\"red\",\n",
    "           alpha=0.7)\n",
    "\n",
    "plt.xlabel(\"Model\")\n",
    "plt.ylabel(\"Number of Cars\")\n",
    "plt.xticks(rotation=90)\n",
    "plt.show()\n"
   ]
  },
  {
   "cell_type": "code",
   "execution_count": 55,
   "id": "ca191781",
   "metadata": {},
   "outputs": [
    {
     "data": {
      "image/png": "[encoded data removed]",
      "text/plain": [
       "<Figure size 1440x864 with 4 Axes>"
      ]
     },
     "metadata": {
      "needs_background": "light"
     },
     "output_type": "display_data"
    }
   ],
   "source": [
    "sns.set_context(\"talk\")\n",
    "plt.figure(figsize=(20,12))\n",
    "\n",
    "#plotting for year\n",
    "\n",
    "plt.subplot(2,2,1)\n",
    "df_year = pd.DataFrame(df[\"year\"].value_counts())\n",
    "df_year = df_year.reset_index()\n",
    "df_year=df_year.rename(columns={\"index\":\"Year\",\n",
    "                                \"year\":\"No of Cars\"})\n",
    "sns.barplot( data = df_year,\n",
    "            x=\"Year\",\n",
    "           y=\"No of Cars\",\n",
    "           color=\"red\",\n",
    "           alpha=0.7)\n",
    "plt.xlabel(\"Year\")\n",
    "plt.ylabel(\"Number of Cars\")\n",
    "plt.xticks(rotation=60)\n",
    "plt.yticks(np.arange(0,3501,500))\n",
    "\n",
    "\n",
    "\n",
    "\n",
    "#plotting for engineSize\n",
    "\n",
    "plt.subplot(2,2,2)\n",
    "df_engineSize = pd.DataFrame(df[\"engineSize\"].value_counts())\n",
    "df_engineSize = df_engineSize.reset_index()\n",
    "df_engineSize=df_engineSize.rename(columns={\"index\":\"Engine\",\n",
    "                                \"engineSize\":\"No of Cars\"})\n",
    "sns.barplot( data = df_engineSize,\n",
    "            x=\"Engine\",\n",
    "           y=\"No of Cars\",\n",
    "           color=\"blue\",\n",
    "           alpha=0.7)\n",
    "plt.xlabel(\"Engine\")\n",
    "plt.ylabel(\"Number of Cars\")\n",
    "plt.yticks(np.arange(0,6001,1000))\n",
    "\n",
    "\n",
    "\n",
    "#plotting for transmission\n",
    "\n",
    "plt.subplot(2,2,3)\n",
    "df_transmission = pd.DataFrame(df[\"transmission\"].value_counts())\n",
    "df_transmission = df_transmission.reset_index()\n",
    "df_transmission=df_transmission.rename(columns={\"index\":\"transmission Type\",\n",
    "                                                  \"transmission\":\"No of Cars\"})\n",
    "sns.barplot( data = df_transmission,\n",
    "            x=\"transmission Type\",\n",
    "           y=\"No of Cars\",\n",
    "           color=\"green\",\n",
    "           alpha=0.7)\n",
    "plt.xlabel(\"transmiossion Type\")\n",
    "plt.ylabel(\"Number of Cars\")\n",
    "plt.yticks(np.arange(0,5001,1000))\n",
    "\n",
    "\n",
    "\n",
    "#plotting for fuelType\n",
    "\n",
    "plt.subplot(2,2,4)\n",
    "df_fuelType = pd.DataFrame(df[\"fuelType\"].value_counts())\n",
    "df_fuelType= df_fuelType.reset_index()\n",
    "df_fuelType=df_fuelType.rename(columns={\"index\":\"Fuel Type\",\n",
    "                                          \"fuelType\":\"No of Cars\"})\n",
    "sns.barplot( data = df_fuelType,\n",
    "            x=\"Fuel Type\",\n",
    "           y=\"No of Cars\",\n",
    "           color=\"yellow\",\n",
    "           alpha=0.7)\n",
    "plt.xlabel(\"Types of Fuel\")\n",
    "plt.ylabel(\"Number of Cars\")\n",
    "plt.yticks(np.arange(0,6001,1000))\n",
    "\n",
    "\n",
    "plt.tight_layout()\n",
    "plt.show()"
   ]
  },
  {
   "cell_type": "code",
   "execution_count": null,
   "id": "5fbbc8c2",
   "metadata": {},
   "outputs": [],
   "source": []
  },
  {
   "cell_type": "code",
   "execution_count": null,
   "id": "d5b9f53b",
   "metadata": {},
   "outputs": [],
   "source": []
  }
 ],
 "metadata": {
  "kernelspec": {
   "display_name": "Python 3 (ipykernel)",
   "language": "python",
   "name": "python3"
  },
  "language_info": {
   "codemirror_mode": {
    "name": "ipython",
    "version": 3
   },
   "file_extension": ".py",
   "mimetype": "text/x-python",
   "name": "python",
   "nbconvert_exporter": "python",
   "pygments_lexer": "ipython3",
   "version": "3.9.13"
  }
 },
 "nbformat": 4,
 "nbformat_minor": 5
}
