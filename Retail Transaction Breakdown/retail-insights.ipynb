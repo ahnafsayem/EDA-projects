{
 "cells": [
  {
   "cell_type": "markdown",
   "metadata": {},
   "source": [
    "# *Retail Transaction Insights and Trends (EDA)*"
   ]
  },
  {
   "cell_type": "code",
   "execution_count": 126,
   "metadata": {
    "execution": {
     "iopub.execute_input": "2024-12-08T13:34:24.424209Z",
     "iopub.status.busy": "2024-12-08T13:34:24.423121Z",
     "iopub.status.idle": "2024-12-08T13:34:24.428355Z",
     "shell.execute_reply": "2024-12-08T13:34:24.427331Z",
     "shell.execute_reply.started": "2024-12-08T13:34:24.424160Z"
    }
   },
   "outputs": [],
   "source": [
    "# NB:  This whole notebook was created in Kaggle"
   ]
  },
  {
   "cell_type": "markdown",
   "metadata": {},
   "source": [
    "### **Importing Libraries**"
   ]
  },
  {
   "cell_type": "code",
   "execution_count": 127,
   "metadata": {
    "_cell_guid": "b1076dfc-b9ad-4769-8c92-a6c4dae69d19",
    "_uuid": "8f2839f25d086af736a60e9eeb907d3b93b6e0e5",
    "execution": {
     "iopub.execute_input": "2024-12-08T13:34:28.641289Z",
     "iopub.status.busy": "2024-12-08T13:34:28.640755Z",
     "iopub.status.idle": "2024-12-08T13:34:28.647064Z",
     "shell.execute_reply": "2024-12-08T13:34:28.645525Z",
     "shell.execute_reply.started": "2024-12-08T13:34:28.641237Z"
    }
   },
   "outputs": [],
   "source": [
    "import numpy as np\n",
    "import pandas as pd\n",
    "import matplotlib.pyplot as plt\n",
    "import seaborn as sns"
   ]
  },
  {
   "cell_type": "markdown",
   "metadata": {},
   "source": [
    "### **Loading Dataset**"
   ]
  },
  {
   "cell_type": "code",
   "execution_count": 68,
   "metadata": {
    "execution": {
     "iopub.execute_input": "2024-12-08T13:32:34.019836Z",
     "iopub.status.busy": "2024-12-08T13:32:34.019436Z",
     "iopub.status.idle": "2024-12-08T13:32:44.073197Z",
     "shell.execute_reply": "2024-12-08T13:32:44.071995Z",
     "shell.execute_reply.started": "2024-12-08T13:32:34.019798Z"
    }
   },
   "outputs": [
    {
     "name": "stdout",
     "output_type": "stream",
     "text": [
      "<class 'pandas.core.frame.DataFrame'>\n",
      "RangeIndex: 38500 entries, 0 to 38499\n",
      "Data columns (total 12 columns):\n",
      " #   Column             Non-Null Count  Dtype  \n",
      "---  ------             --------------  -----  \n",
      " 0   Transaction_ID     38500 non-null  int64  \n",
      " 1   Date               38500 non-null  object \n",
      " 2   Customer_Name      38500 non-null  object \n",
      " 3   Total_Items        38500 non-null  int64  \n",
      " 4   Amount($)          38500 non-null  float64\n",
      " 5   Payment_Method     38500 non-null  object \n",
      " 6   City               38500 non-null  object \n",
      " 7   Store_Type         38500 non-null  object \n",
      " 8   Discount_Applied   38500 non-null  bool   \n",
      " 9   Customer_Category  38500 non-null  object \n",
      " 10  Season             38500 non-null  object \n",
      " 11  Promotion          25529 non-null  object \n",
      "dtypes: bool(1), float64(1), int64(2), object(8)\n",
      "memory usage: 3.3+ MB\n"
     ]
    }
   ],
   "source": [
    "path = '/kaggle/input/transactions/transactions.xlsx'\n",
    "df = pd.read_excel(path)\n",
    "df.info()"
   ]
  },
  {
   "cell_type": "code",
   "execution_count": 69,
   "metadata": {
    "execution": {
     "iopub.execute_input": "2024-12-08T13:32:44.075187Z",
     "iopub.status.busy": "2024-12-08T13:32:44.074884Z",
     "iopub.status.idle": "2024-12-08T13:32:44.090784Z",
     "shell.execute_reply": "2024-12-08T13:32:44.089663Z",
     "shell.execute_reply.started": "2024-12-08T13:32:44.075159Z"
    }
   },
   "outputs": [
    {
     "data": {
      "text/html": [
       "<div>\n",
       "<style scoped>\n",
       "    .dataframe tbody tr th:only-of-type {\n",
       "        vertical-align: middle;\n",
       "    }\n",
       "\n",
       "    .dataframe tbody tr th {\n",
       "        vertical-align: top;\n",
       "    }\n",
       "\n",
       "    .dataframe thead th {\n",
       "        text-align: right;\n",
       "    }\n",
       "</style>\n",
       "<table border=\"1\" class=\"dataframe\">\n",
       "  <thead>\n",
       "    <tr style=\"text-align: right;\">\n",
       "      <th></th>\n",
       "      <th>Transaction_ID</th>\n",
       "      <th>Date</th>\n",
       "      <th>Customer_Name</th>\n",
       "      <th>Total_Items</th>\n",
       "      <th>Amount($)</th>\n",
       "      <th>Payment_Method</th>\n",
       "      <th>City</th>\n",
       "      <th>Store_Type</th>\n",
       "      <th>Discount_Applied</th>\n",
       "      <th>Customer_Category</th>\n",
       "      <th>Season</th>\n",
       "      <th>Promotion</th>\n",
       "    </tr>\n",
       "  </thead>\n",
       "  <tbody>\n",
       "    <tr>\n",
       "      <th>0</th>\n",
       "      <td>1000667075</td>\n",
       "      <td>2022-09-12 17:40:23</td>\n",
       "      <td>David King</td>\n",
       "      <td>5</td>\n",
       "      <td>30.98</td>\n",
       "      <td>Debit Card</td>\n",
       "      <td>Chicago</td>\n",
       "      <td>Warehouse Club</td>\n",
       "      <td>True</td>\n",
       "      <td>Teenager</td>\n",
       "      <td>Fall</td>\n",
       "      <td>BOGO (Buy One Get One)</td>\n",
       "    </tr>\n",
       "    <tr>\n",
       "      <th>1</th>\n",
       "      <td>1000156022</td>\n",
       "      <td>2022-01-20 23:03:20</td>\n",
       "      <td>Michael Williamson</td>\n",
       "      <td>3</td>\n",
       "      <td>23.29</td>\n",
       "      <td>Credit Card</td>\n",
       "      <td>Boston</td>\n",
       "      <td>Warehouse Club</td>\n",
       "      <td>True</td>\n",
       "      <td>Homemaker</td>\n",
       "      <td>Winter</td>\n",
       "      <td>Discount on Selected Items</td>\n",
       "    </tr>\n",
       "    <tr>\n",
       "      <th>2</th>\n",
       "      <td>1000681674</td>\n",
       "      <td>2022-10-15 07:49:59</td>\n",
       "      <td>Chelsea Garza</td>\n",
       "      <td>7</td>\n",
       "      <td>25.62</td>\n",
       "      <td>Debit Card</td>\n",
       "      <td>Chicago</td>\n",
       "      <td>Pharmacy</td>\n",
       "      <td>False</td>\n",
       "      <td>Teenager</td>\n",
       "      <td>Fall</td>\n",
       "      <td>Discount on Selected Items</td>\n",
       "    </tr>\n",
       "  </tbody>\n",
       "</table>\n",
       "</div>"
      ],
      "text/plain": [
       "   Transaction_ID                 Date       Customer_Name  Total_Items  \\\n",
       "0      1000667075  2022-09-12 17:40:23          David King            5   \n",
       "1      1000156022  2022-01-20 23:03:20  Michael Williamson            3   \n",
       "2      1000681674  2022-10-15 07:49:59       Chelsea Garza            7   \n",
       "\n",
       "   Amount($) Payment_Method     City      Store_Type  Discount_Applied  \\\n",
       "0      30.98     Debit Card  Chicago  Warehouse Club              True   \n",
       "1      23.29    Credit Card   Boston  Warehouse Club              True   \n",
       "2      25.62     Debit Card  Chicago        Pharmacy             False   \n",
       "\n",
       "  Customer_Category  Season                   Promotion  \n",
       "0          Teenager    Fall      BOGO (Buy One Get One)  \n",
       "1         Homemaker  Winter  Discount on Selected Items  \n",
       "2          Teenager    Fall  Discount on Selected Items  "
      ]
     },
     "execution_count": 69,
     "metadata": {},
     "output_type": "execute_result"
    }
   ],
   "source": [
    "df.head(3)"
   ]
  },
  {
   "cell_type": "code",
   "execution_count": 70,
   "metadata": {
    "execution": {
     "iopub.execute_input": "2024-12-08T13:32:44.092372Z",
     "iopub.status.busy": "2024-12-08T13:32:44.092060Z",
     "iopub.status.idle": "2024-12-08T13:32:44.141565Z",
     "shell.execute_reply": "2024-12-08T13:32:44.140405Z",
     "shell.execute_reply.started": "2024-12-08T13:32:44.092341Z"
    }
   },
   "outputs": [
    {
     "data": {
      "text/html": [
       "<div>\n",
       "<style scoped>\n",
       "    .dataframe tbody tr th:only-of-type {\n",
       "        vertical-align: middle;\n",
       "    }\n",
       "\n",
       "    .dataframe tbody tr th {\n",
       "        vertical-align: top;\n",
       "    }\n",
       "\n",
       "    .dataframe thead th {\n",
       "        text-align: right;\n",
       "    }\n",
       "</style>\n",
       "<table border=\"1\" class=\"dataframe\">\n",
       "  <thead>\n",
       "    <tr style=\"text-align: right;\">\n",
       "      <th></th>\n",
       "      <th>Transaction_ID</th>\n",
       "      <th>Total_Items</th>\n",
       "      <th>Amount($)</th>\n",
       "    </tr>\n",
       "  </thead>\n",
       "  <tbody>\n",
       "    <tr>\n",
       "      <th>count</th>\n",
       "      <td>3.850000e+04</td>\n",
       "      <td>38500.000000</td>\n",
       "      <td>38500.000000</td>\n",
       "    </tr>\n",
       "    <tr>\n",
       "      <th>mean</th>\n",
       "      <td>1.000500e+09</td>\n",
       "      <td>5.490649</td>\n",
       "      <td>52.459843</td>\n",
       "    </tr>\n",
       "    <tr>\n",
       "      <th>std</th>\n",
       "      <td>2.890708e+05</td>\n",
       "      <td>2.868476</td>\n",
       "      <td>27.442214</td>\n",
       "    </tr>\n",
       "    <tr>\n",
       "      <th>min</th>\n",
       "      <td>1.000000e+09</td>\n",
       "      <td>1.000000</td>\n",
       "      <td>5.000000</td>\n",
       "    </tr>\n",
       "    <tr>\n",
       "      <th>25%</th>\n",
       "      <td>1.000248e+09</td>\n",
       "      <td>3.000000</td>\n",
       "      <td>28.760000</td>\n",
       "    </tr>\n",
       "    <tr>\n",
       "      <th>50%</th>\n",
       "      <td>1.000501e+09</td>\n",
       "      <td>5.000000</td>\n",
       "      <td>52.260000</td>\n",
       "    </tr>\n",
       "    <tr>\n",
       "      <th>75%</th>\n",
       "      <td>1.000751e+09</td>\n",
       "      <td>8.000000</td>\n",
       "      <td>76.350000</td>\n",
       "    </tr>\n",
       "    <tr>\n",
       "      <th>max</th>\n",
       "      <td>1.001000e+09</td>\n",
       "      <td>10.000000</td>\n",
       "      <td>100.000000</td>\n",
       "    </tr>\n",
       "  </tbody>\n",
       "</table>\n",
       "</div>"
      ],
      "text/plain": [
       "       Transaction_ID   Total_Items     Amount($)\n",
       "count    3.850000e+04  38500.000000  38500.000000\n",
       "mean     1.000500e+09      5.490649     52.459843\n",
       "std      2.890708e+05      2.868476     27.442214\n",
       "min      1.000000e+09      1.000000      5.000000\n",
       "25%      1.000248e+09      3.000000     28.760000\n",
       "50%      1.000501e+09      5.000000     52.260000\n",
       "75%      1.000751e+09      8.000000     76.350000\n",
       "max      1.001000e+09     10.000000    100.000000"
      ]
     },
     "execution_count": 70,
     "metadata": {},
     "output_type": "execute_result"
    }
   ],
   "source": [
    "df.describe()"
   ]
  },
  {
   "cell_type": "code",
   "execution_count": 71,
   "metadata": {
    "execution": {
     "iopub.execute_input": "2024-12-08T13:32:44.144292Z",
     "iopub.status.busy": "2024-12-08T13:32:44.143916Z",
     "iopub.status.idle": "2024-12-08T13:32:44.152525Z",
     "shell.execute_reply": "2024-12-08T13:32:44.151226Z",
     "shell.execute_reply.started": "2024-12-08T13:32:44.144258Z"
    }
   },
   "outputs": [
    {
     "data": {
      "text/plain": [
       "Index(['Transaction_ID', 'Date', 'Customer_Name', 'Total_Items', 'Amount($)',\n",
       "       'Payment_Method', 'City', 'Store_Type', 'Discount_Applied',\n",
       "       'Customer_Category', 'Season', 'Promotion'],\n",
       "      dtype='object')"
      ]
     },
     "execution_count": 71,
     "metadata": {},
     "output_type": "execute_result"
    }
   ],
   "source": [
    "df.columns"
   ]
  },
  {
   "cell_type": "code",
   "execution_count": 72,
   "metadata": {
    "execution": {
     "iopub.execute_input": "2024-12-08T13:32:44.154375Z",
     "iopub.status.busy": "2024-12-08T13:32:44.154006Z",
     "iopub.status.idle": "2024-12-08T13:32:44.181286Z",
     "shell.execute_reply": "2024-12-08T13:32:44.179944Z",
     "shell.execute_reply.started": "2024-12-08T13:32:44.154339Z"
    }
   },
   "outputs": [
    {
     "data": {
      "text/html": [
       "<div>\n",
       "<style scoped>\n",
       "    .dataframe tbody tr th:only-of-type {\n",
       "        vertical-align: middle;\n",
       "    }\n",
       "\n",
       "    .dataframe tbody tr th {\n",
       "        vertical-align: top;\n",
       "    }\n",
       "\n",
       "    .dataframe thead th {\n",
       "        text-align: right;\n",
       "    }\n",
       "</style>\n",
       "<table border=\"1\" class=\"dataframe\">\n",
       "  <thead>\n",
       "    <tr style=\"text-align: right;\">\n",
       "      <th></th>\n",
       "      <th>Transaction_ID</th>\n",
       "      <th>Total_Items</th>\n",
       "      <th>Amount($)</th>\n",
       "      <th>Payment_Method</th>\n",
       "      <th>City</th>\n",
       "      <th>Store_Type</th>\n",
       "      <th>Discount_Applied</th>\n",
       "      <th>Customer_Category</th>\n",
       "      <th>Season</th>\n",
       "      <th>Promotion</th>\n",
       "    </tr>\n",
       "  </thead>\n",
       "  <tbody>\n",
       "    <tr>\n",
       "      <th>0</th>\n",
       "      <td>1000667075</td>\n",
       "      <td>5</td>\n",
       "      <td>30.98</td>\n",
       "      <td>Debit Card</td>\n",
       "      <td>Chicago</td>\n",
       "      <td>Warehouse Club</td>\n",
       "      <td>True</td>\n",
       "      <td>Teenager</td>\n",
       "      <td>Fall</td>\n",
       "      <td>BOGO (Buy One Get One)</td>\n",
       "    </tr>\n",
       "    <tr>\n",
       "      <th>1</th>\n",
       "      <td>1000156022</td>\n",
       "      <td>3</td>\n",
       "      <td>23.29</td>\n",
       "      <td>Credit Card</td>\n",
       "      <td>Boston</td>\n",
       "      <td>Warehouse Club</td>\n",
       "      <td>True</td>\n",
       "      <td>Homemaker</td>\n",
       "      <td>Winter</td>\n",
       "      <td>Discount on Selected Items</td>\n",
       "    </tr>\n",
       "    <tr>\n",
       "      <th>2</th>\n",
       "      <td>1000681674</td>\n",
       "      <td>7</td>\n",
       "      <td>25.62</td>\n",
       "      <td>Debit Card</td>\n",
       "      <td>Chicago</td>\n",
       "      <td>Pharmacy</td>\n",
       "      <td>False</td>\n",
       "      <td>Teenager</td>\n",
       "      <td>Fall</td>\n",
       "      <td>Discount on Selected Items</td>\n",
       "    </tr>\n",
       "  </tbody>\n",
       "</table>\n",
       "</div>"
      ],
      "text/plain": [
       "   Transaction_ID  Total_Items  Amount($) Payment_Method     City  \\\n",
       "0      1000667075            5      30.98     Debit Card  Chicago   \n",
       "1      1000156022            3      23.29    Credit Card   Boston   \n",
       "2      1000681674            7      25.62     Debit Card  Chicago   \n",
       "\n",
       "       Store_Type  Discount_Applied Customer_Category  Season  \\\n",
       "0  Warehouse Club              True          Teenager    Fall   \n",
       "1  Warehouse Club              True         Homemaker  Winter   \n",
       "2        Pharmacy             False          Teenager    Fall   \n",
       "\n",
       "                    Promotion  \n",
       "0      BOGO (Buy One Get One)  \n",
       "1  Discount on Selected Items  \n",
       "2  Discount on Selected Items  "
      ]
     },
     "execution_count": 72,
     "metadata": {},
     "output_type": "execute_result"
    }
   ],
   "source": [
    "#Dropping Unnecessary Columns\n",
    "\n",
    "df.drop(columns=['Date','Customer_Name'],axis=1, inplace=True)\n",
    "df.head(3)"
   ]
  },
  {
   "cell_type": "markdown",
   "metadata": {},
   "source": [
    "\n",
    "## **01. Finding out the average transaction amount($) across different store types, and how does it vary by season.**\n"
   ]
  },
  {
   "cell_type": "code",
   "execution_count": 73,
   "metadata": {
    "execution": {
     "iopub.execute_input": "2024-12-08T13:32:44.183722Z",
     "iopub.status.busy": "2024-12-08T13:32:44.183377Z",
     "iopub.status.idle": "2024-12-08T13:32:44.193264Z",
     "shell.execute_reply": "2024-12-08T13:32:44.192068Z",
     "shell.execute_reply.started": "2024-12-08T13:32:44.183679Z"
    }
   },
   "outputs": [
    {
     "data": {
      "text/plain": [
       "array(['Warehouse Club', 'Pharmacy', 'Convenience Store', 'Supermarket',\n",
       "       'Department Store', 'Specialty Store'], dtype=object)"
      ]
     },
     "execution_count": 73,
     "metadata": {},
     "output_type": "execute_result"
    }
   ],
   "source": [
    "#Finding the unique values of the Store_Types\n",
    "\n",
    "store_types = df['Store_Type'].unique()\n",
    "store_types"
   ]
  },
  {
   "cell_type": "code",
   "execution_count": 74,
   "metadata": {
    "execution": {
     "iopub.execute_input": "2024-12-08T13:32:44.195414Z",
     "iopub.status.busy": "2024-12-08T13:32:44.194903Z",
     "iopub.status.idle": "2024-12-08T13:32:44.209279Z",
     "shell.execute_reply": "2024-12-08T13:32:44.208070Z",
     "shell.execute_reply.started": "2024-12-08T13:32:44.195362Z"
    }
   },
   "outputs": [
    {
     "data": {
      "text/plain": [
       "Store_Type\n",
       "Convenience Store    6588\n",
       "Warehouse Club       6495\n",
       "Pharmacy             6447\n",
       "Supermarket          6395\n",
       "Department Store     6319\n",
       "Specialty Store      6256\n",
       "Name: count, dtype: int64"
      ]
     },
     "execution_count": 74,
     "metadata": {},
     "output_type": "execute_result"
    }
   ],
   "source": [
    "store_counts=df['Store_Type'].value_counts()\n",
    "store_counts"
   ]
  },
  {
   "cell_type": "code",
   "execution_count": 75,
   "metadata": {
    "execution": {
     "iopub.execute_input": "2024-12-08T13:32:44.211331Z",
     "iopub.status.busy": "2024-12-08T13:32:44.210886Z",
     "iopub.status.idle": "2024-12-08T13:32:44.230005Z",
     "shell.execute_reply": "2024-12-08T13:32:44.228111Z",
     "shell.execute_reply.started": "2024-12-08T13:32:44.211288Z"
    }
   },
   "outputs": [
    {
     "data": {
      "text/plain": [
       "array(['Fall', 'Winter', 'Summer', 'Spring'], dtype=object)"
      ]
     },
     "execution_count": 75,
     "metadata": {},
     "output_type": "execute_result"
    }
   ],
   "source": [
    "#Finding the unique values of the Sesaon\n",
    "\n",
    "df['Season'].unique()"
   ]
  },
  {
   "cell_type": "code",
   "execution_count": 76,
   "metadata": {
    "execution": {
     "iopub.execute_input": "2024-12-08T13:32:44.232169Z",
     "iopub.status.busy": "2024-12-08T13:32:44.231514Z",
     "iopub.status.idle": "2024-12-08T13:32:44.246904Z",
     "shell.execute_reply": "2024-12-08T13:32:44.245683Z",
     "shell.execute_reply.started": "2024-12-08T13:32:44.232131Z"
    }
   },
   "outputs": [
    {
     "data": {
      "text/plain": [
       "Season\n",
       "Fall      9749\n",
       "Spring    9602\n",
       "Winter    9582\n",
       "Summer    9567\n",
       "Name: count, dtype: int64"
      ]
     },
     "execution_count": 76,
     "metadata": {},
     "output_type": "execute_result"
    }
   ],
   "source": [
    "season_counts=df['Season'].value_counts()\n",
    "season_counts"
   ]
  },
  {
   "cell_type": "markdown",
   "metadata": {},
   "source": [
    "### **Dropping Unnecessary Columns Irrelevanrt for 01 Analysis**"
   ]
  },
  {
   "cell_type": "code",
   "execution_count": 77,
   "metadata": {
    "execution": {
     "iopub.execute_input": "2024-12-08T13:32:44.251264Z",
     "iopub.status.busy": "2024-12-08T13:32:44.250524Z",
     "iopub.status.idle": "2024-12-08T13:32:44.273764Z",
     "shell.execute_reply": "2024-12-08T13:32:44.272337Z",
     "shell.execute_reply.started": "2024-12-08T13:32:44.251223Z"
    }
   },
   "outputs": [
    {
     "data": {
      "text/html": [
       "<div>\n",
       "<style scoped>\n",
       "    .dataframe tbody tr th:only-of-type {\n",
       "        vertical-align: middle;\n",
       "    }\n",
       "\n",
       "    .dataframe tbody tr th {\n",
       "        vertical-align: top;\n",
       "    }\n",
       "\n",
       "    .dataframe thead th {\n",
       "        text-align: right;\n",
       "    }\n",
       "</style>\n",
       "<table border=\"1\" class=\"dataframe\">\n",
       "  <thead>\n",
       "    <tr style=\"text-align: right;\">\n",
       "      <th></th>\n",
       "      <th>Transaction_ID</th>\n",
       "      <th>Amount($)</th>\n",
       "      <th>Store_Type</th>\n",
       "      <th>Season</th>\n",
       "    </tr>\n",
       "  </thead>\n",
       "  <tbody>\n",
       "    <tr>\n",
       "      <th>0</th>\n",
       "      <td>1000667075</td>\n",
       "      <td>30.98</td>\n",
       "      <td>Warehouse Club</td>\n",
       "      <td>Fall</td>\n",
       "    </tr>\n",
       "    <tr>\n",
       "      <th>1</th>\n",
       "      <td>1000156022</td>\n",
       "      <td>23.29</td>\n",
       "      <td>Warehouse Club</td>\n",
       "      <td>Winter</td>\n",
       "    </tr>\n",
       "    <tr>\n",
       "      <th>2</th>\n",
       "      <td>1000681674</td>\n",
       "      <td>25.62</td>\n",
       "      <td>Pharmacy</td>\n",
       "      <td>Fall</td>\n",
       "    </tr>\n",
       "    <tr>\n",
       "      <th>3</th>\n",
       "      <td>1000692089</td>\n",
       "      <td>14.64</td>\n",
       "      <td>Pharmacy</td>\n",
       "      <td>Summer</td>\n",
       "    </tr>\n",
       "    <tr>\n",
       "      <th>4</th>\n",
       "      <td>1000328702</td>\n",
       "      <td>62.27</td>\n",
       "      <td>Convenience Store</td>\n",
       "      <td>Summer</td>\n",
       "    </tr>\n",
       "  </tbody>\n",
       "</table>\n",
       "</div>"
      ],
      "text/plain": [
       "   Transaction_ID  Amount($)         Store_Type  Season\n",
       "0      1000667075      30.98     Warehouse Club    Fall\n",
       "1      1000156022      23.29     Warehouse Club  Winter\n",
       "2      1000681674      25.62           Pharmacy    Fall\n",
       "3      1000692089      14.64           Pharmacy  Summer\n",
       "4      1000328702      62.27  Convenience Store  Summer"
      ]
     },
     "execution_count": 77,
     "metadata": {},
     "output_type": "execute_result"
    }
   ],
   "source": [
    "df_01 = df.drop(columns = ['Total_Items','City','Payment_Method',\n",
    "                           'Discount_Applied','Customer_Category',\n",
    "                           'Promotion'], axis=1)\n",
    "df_01.head(5)"
   ]
  },
  {
   "cell_type": "code",
   "execution_count": 78,
   "metadata": {
    "execution": {
     "iopub.execute_input": "2024-12-08T13:32:44.275603Z",
     "iopub.status.busy": "2024-12-08T13:32:44.275232Z",
     "iopub.status.idle": "2024-12-08T13:32:44.298920Z",
     "shell.execute_reply": "2024-12-08T13:32:44.297523Z",
     "shell.execute_reply.started": "2024-12-08T13:32:44.275551Z"
    }
   },
   "outputs": [
    {
     "data": {
      "text/html": [
       "<div>\n",
       "<style scoped>\n",
       "    .dataframe tbody tr th:only-of-type {\n",
       "        vertical-align: middle;\n",
       "    }\n",
       "\n",
       "    .dataframe tbody tr th {\n",
       "        vertical-align: top;\n",
       "    }\n",
       "\n",
       "    .dataframe thead th {\n",
       "        text-align: right;\n",
       "    }\n",
       "</style>\n",
       "<table border=\"1\" class=\"dataframe\">\n",
       "  <thead>\n",
       "    <tr style=\"text-align: right;\">\n",
       "      <th></th>\n",
       "      <th>Season</th>\n",
       "      <th>Store_Type</th>\n",
       "      <th>Amount($)</th>\n",
       "    </tr>\n",
       "  </thead>\n",
       "  <tbody>\n",
       "    <tr>\n",
       "      <th>0</th>\n",
       "      <td>Fall</td>\n",
       "      <td>Convenience Store</td>\n",
       "      <td>52.872504</td>\n",
       "    </tr>\n",
       "    <tr>\n",
       "      <th>1</th>\n",
       "      <td>Fall</td>\n",
       "      <td>Department Store</td>\n",
       "      <td>51.384757</td>\n",
       "    </tr>\n",
       "    <tr>\n",
       "      <th>2</th>\n",
       "      <td>Fall</td>\n",
       "      <td>Pharmacy</td>\n",
       "      <td>52.363508</td>\n",
       "    </tr>\n",
       "    <tr>\n",
       "      <th>3</th>\n",
       "      <td>Fall</td>\n",
       "      <td>Specialty Store</td>\n",
       "      <td>51.823011</td>\n",
       "    </tr>\n",
       "    <tr>\n",
       "      <th>4</th>\n",
       "      <td>Fall</td>\n",
       "      <td>Supermarket</td>\n",
       "      <td>52.285728</td>\n",
       "    </tr>\n",
       "    <tr>\n",
       "      <th>5</th>\n",
       "      <td>Fall</td>\n",
       "      <td>Warehouse Club</td>\n",
       "      <td>52.027853</td>\n",
       "    </tr>\n",
       "    <tr>\n",
       "      <th>6</th>\n",
       "      <td>Spring</td>\n",
       "      <td>Convenience Store</td>\n",
       "      <td>53.537230</td>\n",
       "    </tr>\n",
       "    <tr>\n",
       "      <th>7</th>\n",
       "      <td>Spring</td>\n",
       "      <td>Department Store</td>\n",
       "      <td>52.573781</td>\n",
       "    </tr>\n",
       "    <tr>\n",
       "      <th>8</th>\n",
       "      <td>Spring</td>\n",
       "      <td>Pharmacy</td>\n",
       "      <td>52.458672</td>\n",
       "    </tr>\n",
       "    <tr>\n",
       "      <th>9</th>\n",
       "      <td>Spring</td>\n",
       "      <td>Specialty Store</td>\n",
       "      <td>53.524048</td>\n",
       "    </tr>\n",
       "    <tr>\n",
       "      <th>10</th>\n",
       "      <td>Spring</td>\n",
       "      <td>Supermarket</td>\n",
       "      <td>52.691298</td>\n",
       "    </tr>\n",
       "    <tr>\n",
       "      <th>11</th>\n",
       "      <td>Spring</td>\n",
       "      <td>Warehouse Club</td>\n",
       "      <td>51.597471</td>\n",
       "    </tr>\n",
       "    <tr>\n",
       "      <th>12</th>\n",
       "      <td>Summer</td>\n",
       "      <td>Convenience Store</td>\n",
       "      <td>53.345305</td>\n",
       "    </tr>\n",
       "    <tr>\n",
       "      <th>13</th>\n",
       "      <td>Summer</td>\n",
       "      <td>Department Store</td>\n",
       "      <td>52.782716</td>\n",
       "    </tr>\n",
       "    <tr>\n",
       "      <th>14</th>\n",
       "      <td>Summer</td>\n",
       "      <td>Pharmacy</td>\n",
       "      <td>52.049365</td>\n",
       "    </tr>\n",
       "    <tr>\n",
       "      <th>15</th>\n",
       "      <td>Summer</td>\n",
       "      <td>Specialty Store</td>\n",
       "      <td>53.594788</td>\n",
       "    </tr>\n",
       "    <tr>\n",
       "      <th>16</th>\n",
       "      <td>Summer</td>\n",
       "      <td>Supermarket</td>\n",
       "      <td>51.443950</td>\n",
       "    </tr>\n",
       "    <tr>\n",
       "      <th>17</th>\n",
       "      <td>Summer</td>\n",
       "      <td>Warehouse Club</td>\n",
       "      <td>53.009120</td>\n",
       "    </tr>\n",
       "    <tr>\n",
       "      <th>18</th>\n",
       "      <td>Winter</td>\n",
       "      <td>Convenience Store</td>\n",
       "      <td>51.595034</td>\n",
       "    </tr>\n",
       "    <tr>\n",
       "      <th>19</th>\n",
       "      <td>Winter</td>\n",
       "      <td>Department Store</td>\n",
       "      <td>52.575652</td>\n",
       "    </tr>\n",
       "    <tr>\n",
       "      <th>20</th>\n",
       "      <td>Winter</td>\n",
       "      <td>Pharmacy</td>\n",
       "      <td>53.218725</td>\n",
       "    </tr>\n",
       "    <tr>\n",
       "      <th>21</th>\n",
       "      <td>Winter</td>\n",
       "      <td>Specialty Store</td>\n",
       "      <td>51.782338</td>\n",
       "    </tr>\n",
       "    <tr>\n",
       "      <th>22</th>\n",
       "      <td>Winter</td>\n",
       "      <td>Supermarket</td>\n",
       "      <td>52.640624</td>\n",
       "    </tr>\n",
       "    <tr>\n",
       "      <th>23</th>\n",
       "      <td>Winter</td>\n",
       "      <td>Warehouse Club</td>\n",
       "      <td>51.818594</td>\n",
       "    </tr>\n",
       "  </tbody>\n",
       "</table>\n",
       "</div>"
      ],
      "text/plain": [
       "    Season         Store_Type  Amount($)\n",
       "0     Fall  Convenience Store  52.872504\n",
       "1     Fall   Department Store  51.384757\n",
       "2     Fall           Pharmacy  52.363508\n",
       "3     Fall    Specialty Store  51.823011\n",
       "4     Fall        Supermarket  52.285728\n",
       "5     Fall     Warehouse Club  52.027853\n",
       "6   Spring  Convenience Store  53.537230\n",
       "7   Spring   Department Store  52.573781\n",
       "8   Spring           Pharmacy  52.458672\n",
       "9   Spring    Specialty Store  53.524048\n",
       "10  Spring        Supermarket  52.691298\n",
       "11  Spring     Warehouse Club  51.597471\n",
       "12  Summer  Convenience Store  53.345305\n",
       "13  Summer   Department Store  52.782716\n",
       "14  Summer           Pharmacy  52.049365\n",
       "15  Summer    Specialty Store  53.594788\n",
       "16  Summer        Supermarket  51.443950\n",
       "17  Summer     Warehouse Club  53.009120\n",
       "18  Winter  Convenience Store  51.595034\n",
       "19  Winter   Department Store  52.575652\n",
       "20  Winter           Pharmacy  53.218725\n",
       "21  Winter    Specialty Store  51.782338\n",
       "22  Winter        Supermarket  52.640624\n",
       "23  Winter     Warehouse Club  51.818594"
      ]
     },
     "execution_count": 78,
     "metadata": {},
     "output_type": "execute_result"
    }
   ],
   "source": [
    "#Grouping data by Season and Store_Type and finding the Average Amount of that\n",
    "\n",
    "grouped_data_2 = df_01.groupby(['Season', 'Store_Type'])['Amount($)'].mean().reset_index()\n",
    "grouped_data_2"
   ]
  },
  {
   "cell_type": "code",
   "execution_count": 79,
   "metadata": {
    "execution": {
     "iopub.execute_input": "2024-12-08T13:32:44.300619Z",
     "iopub.status.busy": "2024-12-08T13:32:44.300261Z",
     "iopub.status.idle": "2024-12-08T13:32:46.137583Z",
     "shell.execute_reply": "2024-12-08T13:32:46.136291Z",
     "shell.execute_reply.started": "2024-12-08T13:32:44.300585Z"
    }
   },
   "outputs": [
    {
     "data": {
      "image/png": "[encoded data removed]",
      "text/plain": [
       "<Figure size 1600x1000 with 4 Axes>"
      ]
     },
     "metadata": {},
     "output_type": "display_data"
    }
   ],
   "source": [
    "# Groupping data by season and store type\n",
    "grouped_data_pie = grouped_data_2.groupby(['Season', 'Store_Type']).sum().reset_index()\n",
    "\n",
    "# Unique seasons for the subplot\n",
    "seasons = grouped_data_2['Season'].unique()\n",
    "\n",
    "# Create subplots\n",
    "fig, axes = plt.subplots(2, 2, figsize=(16, 10))\n",
    "axes = axes.flatten() \n",
    "\n",
    "# Plotting each season's pie chart in a subplot\n",
    "for i, season in enumerate(seasons):\n",
    "    season_data = grouped_data_pie[grouped_data_pie['Season'] == season]\n",
    "    axes[i].pie(season_data['Amount($)'], labels=season_data['Store_Type'], \n",
    "                autopct='%1.1f%%', startangle=140)\n",
    "    axes[i].set_title(f'{season} Sales by Store Type')\n",
    "\n",
    "\n",
    "for j in range(len(seasons), len(axes)):\n",
    "    fig.delaxes(axes[j])\n",
    "\n",
    "plt.tight_layout()\n",
    "plt.savefig('/kaggle/working/00_average_transaction_plot_by_season_store_01.png', \n",
    "            dpi=300, bbox_inches='tight')\n",
    "\n",
    "plt.show()"
   ]
  },
  {
   "cell_type": "markdown",
   "metadata": {},
   "source": [
    "The pie charts depict the distribution of sales amounts across different store types for each season. \n",
    "> - **Fall**: Sales are evenly distributed, with \"Pharmacy\" and \"Supermarket\" contributing slightly more compared to others.\n",
    "> - **Spring**: \"Convenience Stores\" and \"Specialty Stores\" dominate sales, reflecting a seasonal preference for these types.\n",
    "> - **Summer**: \"Specialty Stores\" lead in sales, while \"Supermarket\" lags behind, indicating shifting consumer preferences during the summer.\n",
    "> - **Winter**: \"Pharmacy\" sales peak, likely driven by seasonal health-related purchases, while other store types maintain a balanced contribution.\n",
    "ion.\n",
    "\n",
    "This data highlights the seasonal variations in consumer spending patterns across store types."
   ]
  },
  {
   "cell_type": "code",
   "execution_count": 80,
   "metadata": {
    "execution": {
     "iopub.execute_input": "2024-12-08T13:32:46.139711Z",
     "iopub.status.busy": "2024-12-08T13:32:46.139253Z",
     "iopub.status.idle": "2024-12-08T13:32:46.163862Z",
     "shell.execute_reply": "2024-12-08T13:32:46.162745Z",
     "shell.execute_reply.started": "2024-12-08T13:32:46.139663Z"
    }
   },
   "outputs": [
    {
     "data": {
      "text/html": [
       "<div>\n",
       "<style scoped>\n",
       "    .dataframe tbody tr th:only-of-type {\n",
       "        vertical-align: middle;\n",
       "    }\n",
       "\n",
       "    .dataframe tbody tr th {\n",
       "        vertical-align: top;\n",
       "    }\n",
       "\n",
       "    .dataframe thead th {\n",
       "        text-align: right;\n",
       "    }\n",
       "</style>\n",
       "<table border=\"1\" class=\"dataframe\">\n",
       "  <thead>\n",
       "    <tr style=\"text-align: right;\">\n",
       "      <th></th>\n",
       "      <th>Store_Type</th>\n",
       "      <th>Season</th>\n",
       "      <th>Amount($)</th>\n",
       "    </tr>\n",
       "  </thead>\n",
       "  <tbody>\n",
       "    <tr>\n",
       "      <th>0</th>\n",
       "      <td>Convenience Store</td>\n",
       "      <td>Fall</td>\n",
       "      <td>52.872504</td>\n",
       "    </tr>\n",
       "    <tr>\n",
       "      <th>1</th>\n",
       "      <td>Convenience Store</td>\n",
       "      <td>Spring</td>\n",
       "      <td>53.537230</td>\n",
       "    </tr>\n",
       "    <tr>\n",
       "      <th>2</th>\n",
       "      <td>Convenience Store</td>\n",
       "      <td>Summer</td>\n",
       "      <td>53.345305</td>\n",
       "    </tr>\n",
       "    <tr>\n",
       "      <th>3</th>\n",
       "      <td>Convenience Store</td>\n",
       "      <td>Winter</td>\n",
       "      <td>51.595034</td>\n",
       "    </tr>\n",
       "    <tr>\n",
       "      <th>4</th>\n",
       "      <td>Department Store</td>\n",
       "      <td>Fall</td>\n",
       "      <td>51.384757</td>\n",
       "    </tr>\n",
       "    <tr>\n",
       "      <th>5</th>\n",
       "      <td>Department Store</td>\n",
       "      <td>Spring</td>\n",
       "      <td>52.573781</td>\n",
       "    </tr>\n",
       "    <tr>\n",
       "      <th>6</th>\n",
       "      <td>Department Store</td>\n",
       "      <td>Summer</td>\n",
       "      <td>52.782716</td>\n",
       "    </tr>\n",
       "    <tr>\n",
       "      <th>7</th>\n",
       "      <td>Department Store</td>\n",
       "      <td>Winter</td>\n",
       "      <td>52.575652</td>\n",
       "    </tr>\n",
       "    <tr>\n",
       "      <th>8</th>\n",
       "      <td>Pharmacy</td>\n",
       "      <td>Fall</td>\n",
       "      <td>52.363508</td>\n",
       "    </tr>\n",
       "    <tr>\n",
       "      <th>9</th>\n",
       "      <td>Pharmacy</td>\n",
       "      <td>Spring</td>\n",
       "      <td>52.458672</td>\n",
       "    </tr>\n",
       "    <tr>\n",
       "      <th>10</th>\n",
       "      <td>Pharmacy</td>\n",
       "      <td>Summer</td>\n",
       "      <td>52.049365</td>\n",
       "    </tr>\n",
       "    <tr>\n",
       "      <th>11</th>\n",
       "      <td>Pharmacy</td>\n",
       "      <td>Winter</td>\n",
       "      <td>53.218725</td>\n",
       "    </tr>\n",
       "    <tr>\n",
       "      <th>12</th>\n",
       "      <td>Specialty Store</td>\n",
       "      <td>Fall</td>\n",
       "      <td>51.823011</td>\n",
       "    </tr>\n",
       "    <tr>\n",
       "      <th>13</th>\n",
       "      <td>Specialty Store</td>\n",
       "      <td>Spring</td>\n",
       "      <td>53.524048</td>\n",
       "    </tr>\n",
       "    <tr>\n",
       "      <th>14</th>\n",
       "      <td>Specialty Store</td>\n",
       "      <td>Summer</td>\n",
       "      <td>53.594788</td>\n",
       "    </tr>\n",
       "    <tr>\n",
       "      <th>15</th>\n",
       "      <td>Specialty Store</td>\n",
       "      <td>Winter</td>\n",
       "      <td>51.782338</td>\n",
       "    </tr>\n",
       "    <tr>\n",
       "      <th>16</th>\n",
       "      <td>Supermarket</td>\n",
       "      <td>Fall</td>\n",
       "      <td>52.285728</td>\n",
       "    </tr>\n",
       "    <tr>\n",
       "      <th>17</th>\n",
       "      <td>Supermarket</td>\n",
       "      <td>Spring</td>\n",
       "      <td>52.691298</td>\n",
       "    </tr>\n",
       "    <tr>\n",
       "      <th>18</th>\n",
       "      <td>Supermarket</td>\n",
       "      <td>Summer</td>\n",
       "      <td>51.443950</td>\n",
       "    </tr>\n",
       "    <tr>\n",
       "      <th>19</th>\n",
       "      <td>Supermarket</td>\n",
       "      <td>Winter</td>\n",
       "      <td>52.640624</td>\n",
       "    </tr>\n",
       "    <tr>\n",
       "      <th>20</th>\n",
       "      <td>Warehouse Club</td>\n",
       "      <td>Fall</td>\n",
       "      <td>52.027853</td>\n",
       "    </tr>\n",
       "    <tr>\n",
       "      <th>21</th>\n",
       "      <td>Warehouse Club</td>\n",
       "      <td>Spring</td>\n",
       "      <td>51.597471</td>\n",
       "    </tr>\n",
       "    <tr>\n",
       "      <th>22</th>\n",
       "      <td>Warehouse Club</td>\n",
       "      <td>Summer</td>\n",
       "      <td>53.009120</td>\n",
       "    </tr>\n",
       "    <tr>\n",
       "      <th>23</th>\n",
       "      <td>Warehouse Club</td>\n",
       "      <td>Winter</td>\n",
       "      <td>51.818594</td>\n",
       "    </tr>\n",
       "  </tbody>\n",
       "</table>\n",
       "</div>"
      ],
      "text/plain": [
       "           Store_Type  Season  Amount($)\n",
       "0   Convenience Store    Fall  52.872504\n",
       "1   Convenience Store  Spring  53.537230\n",
       "2   Convenience Store  Summer  53.345305\n",
       "3   Convenience Store  Winter  51.595034\n",
       "4    Department Store    Fall  51.384757\n",
       "5    Department Store  Spring  52.573781\n",
       "6    Department Store  Summer  52.782716\n",
       "7    Department Store  Winter  52.575652\n",
       "8            Pharmacy    Fall  52.363508\n",
       "9            Pharmacy  Spring  52.458672\n",
       "10           Pharmacy  Summer  52.049365\n",
       "11           Pharmacy  Winter  53.218725\n",
       "12    Specialty Store    Fall  51.823011\n",
       "13    Specialty Store  Spring  53.524048\n",
       "14    Specialty Store  Summer  53.594788\n",
       "15    Specialty Store  Winter  51.782338\n",
       "16        Supermarket    Fall  52.285728\n",
       "17        Supermarket  Spring  52.691298\n",
       "18        Supermarket  Summer  51.443950\n",
       "19        Supermarket  Winter  52.640624\n",
       "20     Warehouse Club    Fall  52.027853\n",
       "21     Warehouse Club  Spring  51.597471\n",
       "22     Warehouse Club  Summer  53.009120\n",
       "23     Warehouse Club  Winter  51.818594"
      ]
     },
     "execution_count": 80,
     "metadata": {},
     "output_type": "execute_result"
    }
   ],
   "source": [
    "#Groupping by 'Store_Type' and 'Season', then calculating the mean of 'Amount($)'\n",
    "\n",
    "grouped_data = df_01.groupby(['Store_Type', 'Season'])['Amount($)'].mean().reset_index()\n",
    "grouped_data"
   ]
  },
  {
   "cell_type": "code",
   "execution_count": 81,
   "metadata": {
    "execution": {
     "iopub.execute_input": "2024-12-08T13:32:46.165307Z",
     "iopub.status.busy": "2024-12-08T13:32:46.164993Z",
     "iopub.status.idle": "2024-12-08T13:32:48.022506Z",
     "shell.execute_reply": "2024-12-08T13:32:48.021174Z",
     "shell.execute_reply.started": "2024-12-08T13:32:46.165278Z"
    }
   },
   "outputs": [
    {
     "data": {
      "image/png": "[encoded data removed]",
      "text/plain": [
       "<Figure size 1000x600 with 1 Axes>"
      ]
     },
     "metadata": {},
     "output_type": "display_data"
    }
   ],
   "source": [
    "# Creating the grouped bar chart\n",
    "plt.figure(figsize=(10, 6))\n",
    "ax = sns.barplot(data=df_01, x='Store_Type', y='Amount($)', hue='Season', palette='rocket')\n",
    "\n",
    "# Adding values on top of bars\n",
    "for container in ax.containers:\n",
    "    ax.bar_label(container, fmt='%.2f', label_type='edge', fontsize=6, padding=9)\n",
    "\n",
    "#Showing the plot\n",
    "plt.title('Average Transaction Amount by Store Type and Season', fontsize=16)\n",
    "plt.xlabel('Store Type', fontsize=12)\n",
    "plt.ylabel('Average Amount ($)', fontsize=12)\n",
    "plt.xticks(rotation=0, ha='center', fontsize=10)\n",
    "plt.legend(title='Season', fontsize=10, loc='lower right')\n",
    "plt.tight_layout()\n",
    "\n",
    "# Saving the plot\n",
    "plt.savefig('/kaggle/working/01_average_transaction_plot_01.png', dpi=300, bbox_inches='tight')\n",
    "\n",
    "plt.show()"
   ]
  },
  {
   "cell_type": "markdown",
   "metadata": {},
   "source": [
    "\n",
    "\n",
    "The data outlines the average sales amount across various store types and seasons:\n",
    "\n",
    "> **Convenience Stores** maintain consistently high sales in Spring (53.54 Dollar) and Summer (53.35Dollar), but drop slightly in Winter (51.60Dollar).\n",
    "> \n",
    "> **Department Stores** show stable sales across all seasons, peaking in Summer (52.78Dollar).\n",
    ">\n",
    "> **Pharmacies** see their highest sales in Winter (53.22Dollar), likely due to seasonal health demands.\n",
    "> \n",
    "> **Specialty Stores** perform best in Summer (53.59Dollar) and Spring (53.52Dollar), reflecting seasonal consumer preferences.\n",
    "> \n",
    "> **Supermarkets** experience steady sales across seasons, with a slight dip in Summer (51.44Dollar).\n",
    "> \n",
    "> **Warehouse Clubs** show their highest sales in Summer (53.01Dollar) but lower averages in other seasons.\n",
    ">\n",
    "\n",
    "Overall, Summer and Spring emerge as the peak seasons for most store types, with Winter favoring Pharmacies.\n"
   ]
  },
  {
   "cell_type": "markdown",
   "metadata": {},
   "source": [
    "## **02. Which payment method is most commonly used in high-value transactions (Above the average transiction amount) and how does it varies accross cities?**"
   ]
  },
  {
   "cell_type": "code",
   "execution_count": 82,
   "metadata": {
    "execution": {
     "iopub.execute_input": "2024-12-08T13:32:48.024426Z",
     "iopub.status.busy": "2024-12-08T13:32:48.024012Z",
     "iopub.status.idle": "2024-12-08T13:32:48.049421Z",
     "shell.execute_reply": "2024-12-08T13:32:48.048074Z",
     "shell.execute_reply.started": "2024-12-08T13:32:48.024378Z"
    }
   },
   "outputs": [
    {
     "data": {
      "text/html": [
       "<div>\n",
       "<style scoped>\n",
       "    .dataframe tbody tr th:only-of-type {\n",
       "        vertical-align: middle;\n",
       "    }\n",
       "\n",
       "    .dataframe tbody tr th {\n",
       "        vertical-align: top;\n",
       "    }\n",
       "\n",
       "    .dataframe thead th {\n",
       "        text-align: right;\n",
       "    }\n",
       "</style>\n",
       "<table border=\"1\" class=\"dataframe\">\n",
       "  <thead>\n",
       "    <tr style=\"text-align: right;\">\n",
       "      <th></th>\n",
       "      <th>Transaction_ID</th>\n",
       "      <th>Total_Items</th>\n",
       "      <th>Amount($)</th>\n",
       "      <th>Payment_Method</th>\n",
       "      <th>City</th>\n",
       "      <th>Store_Type</th>\n",
       "      <th>Discount_Applied</th>\n",
       "      <th>Customer_Category</th>\n",
       "      <th>Season</th>\n",
       "      <th>Promotion</th>\n",
       "    </tr>\n",
       "  </thead>\n",
       "  <tbody>\n",
       "    <tr>\n",
       "      <th>29771</th>\n",
       "      <td>1000531045</td>\n",
       "      <td>10</td>\n",
       "      <td>100.0</td>\n",
       "      <td>Cash</td>\n",
       "      <td>Dallas</td>\n",
       "      <td>Supermarket</td>\n",
       "      <td>False</td>\n",
       "      <td>Young Adult</td>\n",
       "      <td>Summer</td>\n",
       "      <td>BOGO (Buy One Get One)</td>\n",
       "    </tr>\n",
       "    <tr>\n",
       "      <th>2645</th>\n",
       "      <td>1000408241</td>\n",
       "      <td>9</td>\n",
       "      <td>100.0</td>\n",
       "      <td>Debit Card</td>\n",
       "      <td>Atlanta</td>\n",
       "      <td>Warehouse Club</td>\n",
       "      <td>True</td>\n",
       "      <td>Middle-Aged</td>\n",
       "      <td>Summer</td>\n",
       "      <td>Discount on Selected Items</td>\n",
       "    </tr>\n",
       "    <tr>\n",
       "      <th>12181</th>\n",
       "      <td>1000591212</td>\n",
       "      <td>1</td>\n",
       "      <td>100.0</td>\n",
       "      <td>Credit Card</td>\n",
       "      <td>San Francisco</td>\n",
       "      <td>Convenience Store</td>\n",
       "      <td>True</td>\n",
       "      <td>Young Adult</td>\n",
       "      <td>Fall</td>\n",
       "      <td>NaN</td>\n",
       "    </tr>\n",
       "  </tbody>\n",
       "</table>\n",
       "</div>"
      ],
      "text/plain": [
       "       Transaction_ID  Total_Items  Amount($) Payment_Method           City  \\\n",
       "29771      1000531045           10      100.0           Cash         Dallas   \n",
       "2645       1000408241            9      100.0     Debit Card        Atlanta   \n",
       "12181      1000591212            1      100.0    Credit Card  San Francisco   \n",
       "\n",
       "              Store_Type  Discount_Applied Customer_Category  Season  \\\n",
       "29771        Supermarket             False       Young Adult  Summer   \n",
       "2645      Warehouse Club              True       Middle-Aged  Summer   \n",
       "12181  Convenience Store              True       Young Adult    Fall   \n",
       "\n",
       "                        Promotion  \n",
       "29771      BOGO (Buy One Get One)  \n",
       "2645   Discount on Selected Items  \n",
       "12181                         NaN  "
      ]
     },
     "execution_count": 82,
     "metadata": {},
     "output_type": "execute_result"
    }
   ],
   "source": [
    "df.sort_values(by='Amount($)', ascending=False).head(3)"
   ]
  },
  {
   "cell_type": "code",
   "execution_count": 83,
   "metadata": {
    "execution": {
     "iopub.execute_input": "2024-12-08T13:32:48.051402Z",
     "iopub.status.busy": "2024-12-08T13:32:48.050960Z",
     "iopub.status.idle": "2024-12-08T13:32:48.059544Z",
     "shell.execute_reply": "2024-12-08T13:32:48.058232Z",
     "shell.execute_reply.started": "2024-12-08T13:32:48.051355Z"
    }
   },
   "outputs": [
    {
     "data": {
      "text/plain": [
       "52.45984311688312"
      ]
     },
     "execution_count": 83,
     "metadata": {},
     "output_type": "execute_result"
    }
   ],
   "source": [
    "#Finding the mean of the transaction amount\n",
    "mean_amount = df['Amount($)'].mean()\n",
    "mean_amount"
   ]
  },
  {
   "cell_type": "code",
   "execution_count": 84,
   "metadata": {
    "execution": {
     "iopub.execute_input": "2024-12-08T13:32:48.061611Z",
     "iopub.status.busy": "2024-12-08T13:32:48.061260Z",
     "iopub.status.idle": "2024-12-08T13:32:48.080051Z",
     "shell.execute_reply": "2024-12-08T13:32:48.078764Z",
     "shell.execute_reply.started": "2024-12-08T13:32:48.061579Z"
    }
   },
   "outputs": [
    {
     "name": "stdout",
     "output_type": "stream",
     "text": [
      "Filtered Dataset Shape with High-Vale Transactions Only is  (19190, 10)\n"
     ]
    }
   ],
   "source": [
    "df_02 = df[df['Amount($)'] > mean_amount]\n",
    "\n",
    "print(\"Filtered Dataset Shape with High-Vale Transactions Only is \",df_02.shape)"
   ]
  },
  {
   "cell_type": "markdown",
   "metadata": {},
   "source": [
    "**Unique Payment Methods**"
   ]
  },
  {
   "cell_type": "code",
   "execution_count": 85,
   "metadata": {
    "execution": {
     "iopub.execute_input": "2024-12-08T13:32:48.082144Z",
     "iopub.status.busy": "2024-12-08T13:32:48.081776Z",
     "iopub.status.idle": "2024-12-08T13:32:48.100038Z",
     "shell.execute_reply": "2024-12-08T13:32:48.098730Z",
     "shell.execute_reply.started": "2024-12-08T13:32:48.082108Z"
    }
   },
   "outputs": [
    {
     "data": {
      "text/plain": [
       "array(['Credit Card', 'Cash', 'Mobile Payment', 'Debit Card'],\n",
       "      dtype=object)"
      ]
     },
     "execution_count": 85,
     "metadata": {},
     "output_type": "execute_result"
    }
   ],
   "source": [
    "df_02['Payment_Method'].unique()"
   ]
  },
  {
   "cell_type": "code",
   "execution_count": 86,
   "metadata": {
    "execution": {
     "iopub.execute_input": "2024-12-08T13:32:48.101967Z",
     "iopub.status.busy": "2024-12-08T13:32:48.101545Z",
     "iopub.status.idle": "2024-12-08T13:32:48.117057Z",
     "shell.execute_reply": "2024-12-08T13:32:48.115735Z",
     "shell.execute_reply.started": "2024-12-08T13:32:48.101911Z"
    }
   },
   "outputs": [
    {
     "data": {
      "text/plain": [
       "Payment_Method\n",
       "Debit Card        4900\n",
       "Cash              4814\n",
       "Credit Card       4763\n",
       "Mobile Payment    4713\n",
       "Name: count, dtype: int64"
      ]
     },
     "execution_count": 86,
     "metadata": {},
     "output_type": "execute_result"
    }
   ],
   "source": [
    "payment_method = df_02['Payment_Method'].value_counts()\n",
    "payment_method"
   ]
  },
  {
   "cell_type": "code",
   "execution_count": 87,
   "metadata": {
    "execution": {
     "iopub.execute_input": "2024-12-08T13:32:48.119208Z",
     "iopub.status.busy": "2024-12-08T13:32:48.118750Z",
     "iopub.status.idle": "2024-12-08T13:32:48.570607Z",
     "shell.execute_reply": "2024-12-08T13:32:48.569560Z",
     "shell.execute_reply.started": "2024-12-08T13:32:48.119172Z"
    }
   },
   "outputs": [
    {
     "data": {
      "image/png": "[encoded data removed]",
      "text/plain": [
       "<Figure size 600x400 with 1 Axes>"
      ]
     },
     "metadata": {},
     "output_type": "display_data"
    }
   ],
   "source": [
    "plt.figure(figsize=(6, 4))\n",
    "\n",
    "plt.pie(payment_method, labels=payment_method.index, autopct=\"%1.2f%%\",\n",
    "        explode=(0.08,0,0,0), shadow=False, startangle=190,\n",
    "        wedgeprops=dict(width=0.75))\n",
    "\n",
    "plt.legend(payment_method.index, title=\"Payment_Method\", loc='center left',\n",
    "           bbox_to_anchor=(0.9, 0.5))\n",
    "\n",
    "plt.title(\"Payment Methods of the High-Vale Transactions\", loc='right')\n",
    "plt.axis('equal')\n",
    "\n",
    "# Saving the plot\n",
    "plt.savefig('/kaggle/working/02_payment_methods_of_transaction_plot_02.png', dpi=300, bbox_inches='tight')\n",
    "\n",
    "\n",
    "plt.show()"
   ]
  },
  {
   "cell_type": "markdown",
   "metadata": {},
   "source": [
    "This pie chart illustrates the distribution of payment methods for high-value transactions. It divides the total percentage into four categories:\n",
    "\n",
    "> **Debit Card (blue):** 25.53% of the transactions were completed using debit cards, making it the most utilized method.\n",
    ">\n",
    "> **Cash (orange):** 25.09% of the payments were made in cash, slightly less than debit card usage.\n",
    ">\n",
    "> **Credit Card (green):** 24.82% of transactions involved credit cards, ranking third.\n",
    ">\n",
    "> **Mobile Payment (red):** 24.56% of the transactions used mobile payment methods, which is the least used but very close to others.\n",
    "\n",
    "The chart shows a fairly balanced distribution among the four payment methods, with no significant dominance by any single category."
   ]
  },
  {
   "cell_type": "markdown",
   "metadata": {},
   "source": [
    "**Unique Cities**"
   ]
  },
  {
   "cell_type": "code",
   "execution_count": 88,
   "metadata": {
    "execution": {
     "iopub.execute_input": "2024-12-08T13:32:48.572249Z",
     "iopub.status.busy": "2024-12-08T13:32:48.571803Z",
     "iopub.status.idle": "2024-12-08T13:32:48.581755Z",
     "shell.execute_reply": "2024-12-08T13:32:48.580673Z",
     "shell.execute_reply.started": "2024-12-08T13:32:48.572203Z"
    }
   },
   "outputs": [
    {
     "data": {
      "text/plain": [
       "array(['Miami', 'Seattle', 'New York', 'Dallas', 'Houston', 'Los Angeles',\n",
       "       'Atlanta', 'Boston', 'Chicago', 'San Francisco'], dtype=object)"
      ]
     },
     "execution_count": 88,
     "metadata": {},
     "output_type": "execute_result"
    }
   ],
   "source": [
    "df_02['City'].unique()"
   ]
  },
  {
   "cell_type": "code",
   "execution_count": 89,
   "metadata": {
    "execution": {
     "iopub.execute_input": "2024-12-08T13:32:48.583396Z",
     "iopub.status.busy": "2024-12-08T13:32:48.582941Z",
     "iopub.status.idle": "2024-12-08T13:32:48.603801Z",
     "shell.execute_reply": "2024-12-08T13:32:48.602814Z",
     "shell.execute_reply.started": "2024-12-08T13:32:48.583335Z"
    }
   },
   "outputs": [
    {
     "data": {
      "text/plain": [
       "City\n",
       "Houston          3898\n",
       "Boston           3892\n",
       "San Francisco    3891\n",
       "New York         3880\n",
       "Los Angeles      3869\n",
       "Chicago          3855\n",
       "Miami            3834\n",
       "Seattle          3824\n",
       "Dallas           3809\n",
       "Atlanta          3748\n",
       "Name: count, dtype: int64"
      ]
     },
     "execution_count": 89,
     "metadata": {},
     "output_type": "execute_result"
    }
   ],
   "source": [
    "city_counts = df['City'].value_counts()\n",
    "city_counts"
   ]
  },
  {
   "cell_type": "code",
   "execution_count": 90,
   "metadata": {
    "execution": {
     "iopub.execute_input": "2024-12-08T13:32:48.605426Z",
     "iopub.status.busy": "2024-12-08T13:32:48.605008Z",
     "iopub.status.idle": "2024-12-08T13:32:48.620506Z",
     "shell.execute_reply": "2024-12-08T13:32:48.618997Z",
     "shell.execute_reply.started": "2024-12-08T13:32:48.605380Z"
    }
   },
   "outputs": [],
   "source": [
    "columns_to_drop_02 = ['Transaction_ID','Total_Items',\n",
    "                      'Store_Type','Discount_Applied',\n",
    "                      'Customer_Category','Season',\n",
    "                      'Promotion']\n",
    "df_02 = df_02.drop(columns=columns_to_drop_02)"
   ]
  },
  {
   "cell_type": "code",
   "execution_count": 91,
   "metadata": {
    "execution": {
     "iopub.execute_input": "2024-12-08T13:32:48.622556Z",
     "iopub.status.busy": "2024-12-08T13:32:48.622135Z",
     "iopub.status.idle": "2024-12-08T13:32:48.642060Z",
     "shell.execute_reply": "2024-12-08T13:32:48.640861Z",
     "shell.execute_reply.started": "2024-12-08T13:32:48.622507Z"
    }
   },
   "outputs": [
    {
     "data": {
      "text/html": [
       "<div>\n",
       "<style scoped>\n",
       "    .dataframe tbody tr th:only-of-type {\n",
       "        vertical-align: middle;\n",
       "    }\n",
       "\n",
       "    .dataframe tbody tr th {\n",
       "        vertical-align: top;\n",
       "    }\n",
       "\n",
       "    .dataframe thead th {\n",
       "        text-align: right;\n",
       "    }\n",
       "</style>\n",
       "<table border=\"1\" class=\"dataframe\">\n",
       "  <thead>\n",
       "    <tr style=\"text-align: right;\">\n",
       "      <th></th>\n",
       "      <th>Amount($)</th>\n",
       "      <th>Payment_Method</th>\n",
       "      <th>City</th>\n",
       "    </tr>\n",
       "  </thead>\n",
       "  <tbody>\n",
       "    <tr>\n",
       "      <th>4</th>\n",
       "      <td>62.27</td>\n",
       "      <td>Credit Card</td>\n",
       "      <td>Miami</td>\n",
       "    </tr>\n",
       "    <tr>\n",
       "      <th>6</th>\n",
       "      <td>88.07</td>\n",
       "      <td>Cash</td>\n",
       "      <td>Seattle</td>\n",
       "    </tr>\n",
       "    <tr>\n",
       "      <th>7</th>\n",
       "      <td>62.51</td>\n",
       "      <td>Mobile Payment</td>\n",
       "      <td>New York</td>\n",
       "    </tr>\n",
       "    <tr>\n",
       "      <th>11</th>\n",
       "      <td>68.68</td>\n",
       "      <td>Mobile Payment</td>\n",
       "      <td>Dallas</td>\n",
       "    </tr>\n",
       "    <tr>\n",
       "      <th>12</th>\n",
       "      <td>59.65</td>\n",
       "      <td>Debit Card</td>\n",
       "      <td>Miami</td>\n",
       "    </tr>\n",
       "  </tbody>\n",
       "</table>\n",
       "</div>"
      ],
      "text/plain": [
       "    Amount($)  Payment_Method      City\n",
       "4       62.27     Credit Card     Miami\n",
       "6       88.07            Cash   Seattle\n",
       "7       62.51  Mobile Payment  New York\n",
       "11      68.68  Mobile Payment    Dallas\n",
       "12      59.65      Debit Card     Miami"
      ]
     },
     "execution_count": 91,
     "metadata": {},
     "output_type": "execute_result"
    }
   ],
   "source": [
    "df_02.head(5)"
   ]
  },
  {
   "cell_type": "code",
   "execution_count": 92,
   "metadata": {
    "execution": {
     "iopub.execute_input": "2024-12-08T13:32:48.644199Z",
     "iopub.status.busy": "2024-12-08T13:32:48.643720Z",
     "iopub.status.idle": "2024-12-08T13:32:48.669218Z",
     "shell.execute_reply": "2024-12-08T13:32:48.667968Z",
     "shell.execute_reply.started": "2024-12-08T13:32:48.644150Z"
    }
   },
   "outputs": [
    {
     "data": {
      "text/html": [
       "<div>\n",
       "<style scoped>\n",
       "    .dataframe tbody tr th:only-of-type {\n",
       "        vertical-align: middle;\n",
       "    }\n",
       "\n",
       "    .dataframe tbody tr th {\n",
       "        vertical-align: top;\n",
       "    }\n",
       "\n",
       "    .dataframe thead th {\n",
       "        text-align: right;\n",
       "    }\n",
       "</style>\n",
       "<table border=\"1\" class=\"dataframe\">\n",
       "  <thead>\n",
       "    <tr style=\"text-align: right;\">\n",
       "      <th></th>\n",
       "      <th>Payment_Method</th>\n",
       "      <th>City</th>\n",
       "      <th>Count</th>\n",
       "    </tr>\n",
       "  </thead>\n",
       "  <tbody>\n",
       "    <tr>\n",
       "      <th>0</th>\n",
       "      <td>Cash</td>\n",
       "      <td>Atlanta</td>\n",
       "      <td>467</td>\n",
       "    </tr>\n",
       "    <tr>\n",
       "      <th>1</th>\n",
       "      <td>Cash</td>\n",
       "      <td>Boston</td>\n",
       "      <td>485</td>\n",
       "    </tr>\n",
       "    <tr>\n",
       "      <th>2</th>\n",
       "      <td>Cash</td>\n",
       "      <td>Chicago</td>\n",
       "      <td>516</td>\n",
       "    </tr>\n",
       "    <tr>\n",
       "      <th>3</th>\n",
       "      <td>Cash</td>\n",
       "      <td>Dallas</td>\n",
       "      <td>454</td>\n",
       "    </tr>\n",
       "    <tr>\n",
       "      <th>4</th>\n",
       "      <td>Cash</td>\n",
       "      <td>Houston</td>\n",
       "      <td>492</td>\n",
       "    </tr>\n",
       "    <tr>\n",
       "      <th>5</th>\n",
       "      <td>Cash</td>\n",
       "      <td>Los Angeles</td>\n",
       "      <td>485</td>\n",
       "    </tr>\n",
       "    <tr>\n",
       "      <th>6</th>\n",
       "      <td>Cash</td>\n",
       "      <td>Miami</td>\n",
       "      <td>467</td>\n",
       "    </tr>\n",
       "    <tr>\n",
       "      <th>7</th>\n",
       "      <td>Cash</td>\n",
       "      <td>New York</td>\n",
       "      <td>482</td>\n",
       "    </tr>\n",
       "    <tr>\n",
       "      <th>8</th>\n",
       "      <td>Cash</td>\n",
       "      <td>San Francisco</td>\n",
       "      <td>489</td>\n",
       "    </tr>\n",
       "    <tr>\n",
       "      <th>9</th>\n",
       "      <td>Cash</td>\n",
       "      <td>Seattle</td>\n",
       "      <td>477</td>\n",
       "    </tr>\n",
       "    <tr>\n",
       "      <th>10</th>\n",
       "      <td>Credit Card</td>\n",
       "      <td>Atlanta</td>\n",
       "      <td>452</td>\n",
       "    </tr>\n",
       "    <tr>\n",
       "      <th>11</th>\n",
       "      <td>Credit Card</td>\n",
       "      <td>Boston</td>\n",
       "      <td>471</td>\n",
       "    </tr>\n",
       "    <tr>\n",
       "      <th>12</th>\n",
       "      <td>Credit Card</td>\n",
       "      <td>Chicago</td>\n",
       "      <td>507</td>\n",
       "    </tr>\n",
       "    <tr>\n",
       "      <th>13</th>\n",
       "      <td>Credit Card</td>\n",
       "      <td>Dallas</td>\n",
       "      <td>466</td>\n",
       "    </tr>\n",
       "    <tr>\n",
       "      <th>14</th>\n",
       "      <td>Credit Card</td>\n",
       "      <td>Houston</td>\n",
       "      <td>484</td>\n",
       "    </tr>\n",
       "    <tr>\n",
       "      <th>15</th>\n",
       "      <td>Credit Card</td>\n",
       "      <td>Los Angeles</td>\n",
       "      <td>453</td>\n",
       "    </tr>\n",
       "    <tr>\n",
       "      <th>16</th>\n",
       "      <td>Credit Card</td>\n",
       "      <td>Miami</td>\n",
       "      <td>489</td>\n",
       "    </tr>\n",
       "    <tr>\n",
       "      <th>17</th>\n",
       "      <td>Credit Card</td>\n",
       "      <td>New York</td>\n",
       "      <td>480</td>\n",
       "    </tr>\n",
       "    <tr>\n",
       "      <th>18</th>\n",
       "      <td>Credit Card</td>\n",
       "      <td>San Francisco</td>\n",
       "      <td>504</td>\n",
       "    </tr>\n",
       "    <tr>\n",
       "      <th>19</th>\n",
       "      <td>Credit Card</td>\n",
       "      <td>Seattle</td>\n",
       "      <td>457</td>\n",
       "    </tr>\n",
       "    <tr>\n",
       "      <th>20</th>\n",
       "      <td>Debit Card</td>\n",
       "      <td>Atlanta</td>\n",
       "      <td>451</td>\n",
       "    </tr>\n",
       "    <tr>\n",
       "      <th>21</th>\n",
       "      <td>Debit Card</td>\n",
       "      <td>Boston</td>\n",
       "      <td>484</td>\n",
       "    </tr>\n",
       "    <tr>\n",
       "      <th>22</th>\n",
       "      <td>Debit Card</td>\n",
       "      <td>Chicago</td>\n",
       "      <td>484</td>\n",
       "    </tr>\n",
       "    <tr>\n",
       "      <th>23</th>\n",
       "      <td>Debit Card</td>\n",
       "      <td>Dallas</td>\n",
       "      <td>538</td>\n",
       "    </tr>\n",
       "    <tr>\n",
       "      <th>24</th>\n",
       "      <td>Debit Card</td>\n",
       "      <td>Houston</td>\n",
       "      <td>492</td>\n",
       "    </tr>\n",
       "    <tr>\n",
       "      <th>25</th>\n",
       "      <td>Debit Card</td>\n",
       "      <td>Los Angeles</td>\n",
       "      <td>518</td>\n",
       "    </tr>\n",
       "    <tr>\n",
       "      <th>26</th>\n",
       "      <td>Debit Card</td>\n",
       "      <td>Miami</td>\n",
       "      <td>485</td>\n",
       "    </tr>\n",
       "    <tr>\n",
       "      <th>27</th>\n",
       "      <td>Debit Card</td>\n",
       "      <td>New York</td>\n",
       "      <td>453</td>\n",
       "    </tr>\n",
       "    <tr>\n",
       "      <th>28</th>\n",
       "      <td>Debit Card</td>\n",
       "      <td>San Francisco</td>\n",
       "      <td>483</td>\n",
       "    </tr>\n",
       "    <tr>\n",
       "      <th>29</th>\n",
       "      <td>Debit Card</td>\n",
       "      <td>Seattle</td>\n",
       "      <td>512</td>\n",
       "    </tr>\n",
       "    <tr>\n",
       "      <th>30</th>\n",
       "      <td>Mobile Payment</td>\n",
       "      <td>Atlanta</td>\n",
       "      <td>506</td>\n",
       "    </tr>\n",
       "    <tr>\n",
       "      <th>31</th>\n",
       "      <td>Mobile Payment</td>\n",
       "      <td>Boston</td>\n",
       "      <td>427</td>\n",
       "    </tr>\n",
       "    <tr>\n",
       "      <th>32</th>\n",
       "      <td>Mobile Payment</td>\n",
       "      <td>Chicago</td>\n",
       "      <td>455</td>\n",
       "    </tr>\n",
       "    <tr>\n",
       "      <th>33</th>\n",
       "      <td>Mobile Payment</td>\n",
       "      <td>Dallas</td>\n",
       "      <td>422</td>\n",
       "    </tr>\n",
       "    <tr>\n",
       "      <th>34</th>\n",
       "      <td>Mobile Payment</td>\n",
       "      <td>Houston</td>\n",
       "      <td>462</td>\n",
       "    </tr>\n",
       "    <tr>\n",
       "      <th>35</th>\n",
       "      <td>Mobile Payment</td>\n",
       "      <td>Los Angeles</td>\n",
       "      <td>492</td>\n",
       "    </tr>\n",
       "    <tr>\n",
       "      <th>36</th>\n",
       "      <td>Mobile Payment</td>\n",
       "      <td>Miami</td>\n",
       "      <td>485</td>\n",
       "    </tr>\n",
       "    <tr>\n",
       "      <th>37</th>\n",
       "      <td>Mobile Payment</td>\n",
       "      <td>New York</td>\n",
       "      <td>510</td>\n",
       "    </tr>\n",
       "    <tr>\n",
       "      <th>38</th>\n",
       "      <td>Mobile Payment</td>\n",
       "      <td>San Francisco</td>\n",
       "      <td>490</td>\n",
       "    </tr>\n",
       "    <tr>\n",
       "      <th>39</th>\n",
       "      <td>Mobile Payment</td>\n",
       "      <td>Seattle</td>\n",
       "      <td>464</td>\n",
       "    </tr>\n",
       "  </tbody>\n",
       "</table>\n",
       "</div>"
      ],
      "text/plain": [
       "    Payment_Method           City  Count\n",
       "0             Cash        Atlanta    467\n",
       "1             Cash         Boston    485\n",
       "2             Cash        Chicago    516\n",
       "3             Cash         Dallas    454\n",
       "4             Cash        Houston    492\n",
       "5             Cash    Los Angeles    485\n",
       "6             Cash          Miami    467\n",
       "7             Cash       New York    482\n",
       "8             Cash  San Francisco    489\n",
       "9             Cash        Seattle    477\n",
       "10     Credit Card        Atlanta    452\n",
       "11     Credit Card         Boston    471\n",
       "12     Credit Card        Chicago    507\n",
       "13     Credit Card         Dallas    466\n",
       "14     Credit Card        Houston    484\n",
       "15     Credit Card    Los Angeles    453\n",
       "16     Credit Card          Miami    489\n",
       "17     Credit Card       New York    480\n",
       "18     Credit Card  San Francisco    504\n",
       "19     Credit Card        Seattle    457\n",
       "20      Debit Card        Atlanta    451\n",
       "21      Debit Card         Boston    484\n",
       "22      Debit Card        Chicago    484\n",
       "23      Debit Card         Dallas    538\n",
       "24      Debit Card        Houston    492\n",
       "25      Debit Card    Los Angeles    518\n",
       "26      Debit Card          Miami    485\n",
       "27      Debit Card       New York    453\n",
       "28      Debit Card  San Francisco    483\n",
       "29      Debit Card        Seattle    512\n",
       "30  Mobile Payment        Atlanta    506\n",
       "31  Mobile Payment         Boston    427\n",
       "32  Mobile Payment        Chicago    455\n",
       "33  Mobile Payment         Dallas    422\n",
       "34  Mobile Payment        Houston    462\n",
       "35  Mobile Payment    Los Angeles    492\n",
       "36  Mobile Payment          Miami    485\n",
       "37  Mobile Payment       New York    510\n",
       "38  Mobile Payment  San Francisco    490\n",
       "39  Mobile Payment        Seattle    464"
      ]
     },
     "execution_count": 92,
     "metadata": {},
     "output_type": "execute_result"
    }
   ],
   "source": [
    "high_value_df = df_02.groupby(['Payment_Method','City']).size().reset_index(name='Count')\n",
    "high_value_df"
   ]
  },
  {
   "cell_type": "code",
   "execution_count": 93,
   "metadata": {
    "execution": {
     "iopub.execute_input": "2024-12-08T13:32:48.671229Z",
     "iopub.status.busy": "2024-12-08T13:32:48.670769Z",
     "iopub.status.idle": "2024-12-08T13:32:48.685189Z",
     "shell.execute_reply": "2024-12-08T13:32:48.684119Z",
     "shell.execute_reply.started": "2024-12-08T13:32:48.671179Z"
    }
   },
   "outputs": [
    {
     "data": {
      "text/html": [
       "<div>\n",
       "<style scoped>\n",
       "    .dataframe tbody tr th:only-of-type {\n",
       "        vertical-align: middle;\n",
       "    }\n",
       "\n",
       "    .dataframe tbody tr th {\n",
       "        vertical-align: top;\n",
       "    }\n",
       "\n",
       "    .dataframe thead th {\n",
       "        text-align: right;\n",
       "    }\n",
       "</style>\n",
       "<table border=\"1\" class=\"dataframe\">\n",
       "  <thead>\n",
       "    <tr style=\"text-align: right;\">\n",
       "      <th></th>\n",
       "      <th>Payment_Method</th>\n",
       "      <th>Count</th>\n",
       "    </tr>\n",
       "  </thead>\n",
       "  <tbody>\n",
       "    <tr>\n",
       "      <th>2</th>\n",
       "      <td>Debit Card</td>\n",
       "      <td>4900</td>\n",
       "    </tr>\n",
       "    <tr>\n",
       "      <th>0</th>\n",
       "      <td>Cash</td>\n",
       "      <td>4814</td>\n",
       "    </tr>\n",
       "    <tr>\n",
       "      <th>1</th>\n",
       "      <td>Credit Card</td>\n",
       "      <td>4763</td>\n",
       "    </tr>\n",
       "    <tr>\n",
       "      <th>3</th>\n",
       "      <td>Mobile Payment</td>\n",
       "      <td>4713</td>\n",
       "    </tr>\n",
       "  </tbody>\n",
       "</table>\n",
       "</div>"
      ],
      "text/plain": [
       "   Payment_Method  Count\n",
       "2      Debit Card   4900\n",
       "0            Cash   4814\n",
       "1     Credit Card   4763\n",
       "3  Mobile Payment   4713"
      ]
     },
     "execution_count": 93,
     "metadata": {},
     "output_type": "execute_result"
    }
   ],
   "source": [
    "total_payments_by_method = high_value_df.groupby('Payment_Method')['Count'].sum().reset_index()\n",
    "\n",
    "total_payments_by_method.sort_values(by='Count', ascending=False)"
   ]
  },
  {
   "cell_type": "markdown",
   "metadata": {},
   "source": [
    "### **Most Common Payment Method for High-Valued Transaction by Cities**"
   ]
  },
  {
   "cell_type": "code",
   "execution_count": 94,
   "metadata": {
    "execution": {
     "iopub.execute_input": "2024-12-08T13:32:48.686947Z",
     "iopub.status.busy": "2024-12-08T13:32:48.686543Z",
     "iopub.status.idle": "2024-12-08T13:32:48.708012Z",
     "shell.execute_reply": "2024-12-08T13:32:48.706847Z",
     "shell.execute_reply.started": "2024-12-08T13:32:48.686909Z"
    }
   },
   "outputs": [
    {
     "data": {
      "text/html": [
       "<div>\n",
       "<style scoped>\n",
       "    .dataframe tbody tr th:only-of-type {\n",
       "        vertical-align: middle;\n",
       "    }\n",
       "\n",
       "    .dataframe tbody tr th {\n",
       "        vertical-align: top;\n",
       "    }\n",
       "\n",
       "    .dataframe thead th {\n",
       "        text-align: right;\n",
       "    }\n",
       "</style>\n",
       "<table border=\"1\" class=\"dataframe\">\n",
       "  <thead>\n",
       "    <tr style=\"text-align: right;\">\n",
       "      <th></th>\n",
       "      <th>Payment_Method</th>\n",
       "      <th>City</th>\n",
       "      <th>Count</th>\n",
       "    </tr>\n",
       "  </thead>\n",
       "  <tbody>\n",
       "    <tr>\n",
       "      <th>1</th>\n",
       "      <td>Cash</td>\n",
       "      <td>Boston</td>\n",
       "      <td>485</td>\n",
       "    </tr>\n",
       "    <tr>\n",
       "      <th>16</th>\n",
       "      <td>Credit Card</td>\n",
       "      <td>Miami</td>\n",
       "      <td>489</td>\n",
       "    </tr>\n",
       "    <tr>\n",
       "      <th>4</th>\n",
       "      <td>Cash</td>\n",
       "      <td>Houston</td>\n",
       "      <td>492</td>\n",
       "    </tr>\n",
       "    <tr>\n",
       "      <th>18</th>\n",
       "      <td>Credit Card</td>\n",
       "      <td>San Francisco</td>\n",
       "      <td>504</td>\n",
       "    </tr>\n",
       "    <tr>\n",
       "      <th>30</th>\n",
       "      <td>Mobile Payment</td>\n",
       "      <td>Atlanta</td>\n",
       "      <td>506</td>\n",
       "    </tr>\n",
       "    <tr>\n",
       "      <th>37</th>\n",
       "      <td>Mobile Payment</td>\n",
       "      <td>New York</td>\n",
       "      <td>510</td>\n",
       "    </tr>\n",
       "    <tr>\n",
       "      <th>29</th>\n",
       "      <td>Debit Card</td>\n",
       "      <td>Seattle</td>\n",
       "      <td>512</td>\n",
       "    </tr>\n",
       "    <tr>\n",
       "      <th>2</th>\n",
       "      <td>Cash</td>\n",
       "      <td>Chicago</td>\n",
       "      <td>516</td>\n",
       "    </tr>\n",
       "    <tr>\n",
       "      <th>25</th>\n",
       "      <td>Debit Card</td>\n",
       "      <td>Los Angeles</td>\n",
       "      <td>518</td>\n",
       "    </tr>\n",
       "    <tr>\n",
       "      <th>23</th>\n",
       "      <td>Debit Card</td>\n",
       "      <td>Dallas</td>\n",
       "      <td>538</td>\n",
       "    </tr>\n",
       "  </tbody>\n",
       "</table>\n",
       "</div>"
      ],
      "text/plain": [
       "    Payment_Method           City  Count\n",
       "1             Cash         Boston    485\n",
       "16     Credit Card          Miami    489\n",
       "4             Cash        Houston    492\n",
       "18     Credit Card  San Francisco    504\n",
       "30  Mobile Payment        Atlanta    506\n",
       "37  Mobile Payment       New York    510\n",
       "29      Debit Card        Seattle    512\n",
       "2             Cash        Chicago    516\n",
       "25      Debit Card    Los Angeles    518\n",
       "23      Debit Card         Dallas    538"
      ]
     },
     "execution_count": 94,
     "metadata": {},
     "output_type": "execute_result"
    }
   ],
   "source": [
    "most_common_payment_method = high_value_df.loc[high_value_df.groupby('City')['Count'].idxmax()]\n",
    "most_common_payment_method_sorted = most_common_payment_method.sort_values(by='Count',ascending =True)\n",
    "most_common_payment_method_sorted"
   ]
  },
  {
   "cell_type": "code",
   "execution_count": 95,
   "metadata": {
    "execution": {
     "iopub.execute_input": "2024-12-08T13:32:48.715207Z",
     "iopub.status.busy": "2024-12-08T13:32:48.714813Z",
     "iopub.status.idle": "2024-12-08T13:32:49.954026Z",
     "shell.execute_reply": "2024-12-08T13:32:49.952672Z",
     "shell.execute_reply.started": "2024-12-08T13:32:48.715174Z"
    }
   },
   "outputs": [
    {
     "data": {
      "image/png": "[encoded data removed]",
      "text/plain": [
       "<Figure size 1200x600 with 1 Axes>"
      ]
     },
     "metadata": {},
     "output_type": "display_data"
    }
   ],
   "source": [
    "#pivot method for stacked bar plot\n",
    "pivot_df = most_common_payment_method_sorted.pivot_table(index='City', \n",
    "                                                         columns='Payment_Method', \n",
    "                                                         values='Count', aggfunc='sum', \n",
    "                                                         fill_value=0)\n",
    "\n",
    "# Plotting\n",
    "ax = pivot_df.plot(kind='barh', stacked=True, \n",
    "                   figsize=(12, 6), colormap='rocket')\n",
    "\n",
    "# Customizing the plot\n",
    "plt.title('Most Common Payment Methods for High-Value Transaction by City', fontsize=16)\n",
    "plt.xlabel('Transaction Count', fontsize=12)\n",
    "plt.ylabel('City', fontsize=12)\n",
    "plt.legend(title='Payment Method', fontsize=10, bbox_to_anchor=(1, 0.65))\n",
    "\n",
    "# Adjusting layout\n",
    "plt.tight_layout()\n",
    "\n",
    "# Saving the plot\n",
    "plt.savefig('/kaggle/working/03_most_common_payment_method_plot_02.png', dpi=300, bbox_inches='tight')\n",
    "\n",
    "# Show the plot\n",
    "plt.show()"
   ]
  },
  {
   "cell_type": "markdown",
   "metadata": {},
   "source": [
    "\n",
    "> This data represents payment methods used across various cities, along with the count of transactions.The counts range from 485 (lowest, Cash in Boston) to 538 (highest, Debit Card in Dallas). Debit Card transactions have the highest count (518 in Los Angeles, 538 in Dallas).Mobile Payments were relatively higher in New York (510) and Atlanta (506).Credit Card usage is notable in Miami (489) and San Francisco (504).Cash is common in Chicago (516) and Houston (492).\n",
    ">\n",
    "> This provides insights into payment preferences across cities, with varying transaction counts for each payment method.\n"
   ]
  },
  {
   "cell_type": "markdown",
   "metadata": {},
   "source": [
    "### **Most Common Payment Method for High Valed Transaction**  "
   ]
  },
  {
   "cell_type": "code",
   "execution_count": 96,
   "metadata": {
    "execution": {
     "iopub.execute_input": "2024-12-08T13:32:49.956168Z",
     "iopub.status.busy": "2024-12-08T13:32:49.955703Z",
     "iopub.status.idle": "2024-12-08T13:32:49.968792Z",
     "shell.execute_reply": "2024-12-08T13:32:49.967533Z",
     "shell.execute_reply.started": "2024-12-08T13:32:49.956116Z"
    }
   },
   "outputs": [
    {
     "data": {
      "text/html": [
       "<div>\n",
       "<style scoped>\n",
       "    .dataframe tbody tr th:only-of-type {\n",
       "        vertical-align: middle;\n",
       "    }\n",
       "\n",
       "    .dataframe tbody tr th {\n",
       "        vertical-align: top;\n",
       "    }\n",
       "\n",
       "    .dataframe thead th {\n",
       "        text-align: right;\n",
       "    }\n",
       "</style>\n",
       "<table border=\"1\" class=\"dataframe\">\n",
       "  <thead>\n",
       "    <tr style=\"text-align: right;\">\n",
       "      <th></th>\n",
       "      <th>Payment_Method</th>\n",
       "      <th>City</th>\n",
       "      <th>Count</th>\n",
       "    </tr>\n",
       "  </thead>\n",
       "  <tbody>\n",
       "    <tr>\n",
       "      <th>20</th>\n",
       "      <td>Debit Card</td>\n",
       "      <td>Atlanta</td>\n",
       "      <td>451</td>\n",
       "    </tr>\n",
       "    <tr>\n",
       "      <th>21</th>\n",
       "      <td>Debit Card</td>\n",
       "      <td>Boston</td>\n",
       "      <td>484</td>\n",
       "    </tr>\n",
       "    <tr>\n",
       "      <th>22</th>\n",
       "      <td>Debit Card</td>\n",
       "      <td>Chicago</td>\n",
       "      <td>484</td>\n",
       "    </tr>\n",
       "    <tr>\n",
       "      <th>23</th>\n",
       "      <td>Debit Card</td>\n",
       "      <td>Dallas</td>\n",
       "      <td>538</td>\n",
       "    </tr>\n",
       "    <tr>\n",
       "      <th>24</th>\n",
       "      <td>Debit Card</td>\n",
       "      <td>Houston</td>\n",
       "      <td>492</td>\n",
       "    </tr>\n",
       "    <tr>\n",
       "      <th>25</th>\n",
       "      <td>Debit Card</td>\n",
       "      <td>Los Angeles</td>\n",
       "      <td>518</td>\n",
       "    </tr>\n",
       "    <tr>\n",
       "      <th>26</th>\n",
       "      <td>Debit Card</td>\n",
       "      <td>Miami</td>\n",
       "      <td>485</td>\n",
       "    </tr>\n",
       "    <tr>\n",
       "      <th>27</th>\n",
       "      <td>Debit Card</td>\n",
       "      <td>New York</td>\n",
       "      <td>453</td>\n",
       "    </tr>\n",
       "    <tr>\n",
       "      <th>28</th>\n",
       "      <td>Debit Card</td>\n",
       "      <td>San Francisco</td>\n",
       "      <td>483</td>\n",
       "    </tr>\n",
       "    <tr>\n",
       "      <th>29</th>\n",
       "      <td>Debit Card</td>\n",
       "      <td>Seattle</td>\n",
       "      <td>512</td>\n",
       "    </tr>\n",
       "  </tbody>\n",
       "</table>\n",
       "</div>"
      ],
      "text/plain": [
       "   Payment_Method           City  Count\n",
       "20     Debit Card        Atlanta    451\n",
       "21     Debit Card         Boston    484\n",
       "22     Debit Card        Chicago    484\n",
       "23     Debit Card         Dallas    538\n",
       "24     Debit Card        Houston    492\n",
       "25     Debit Card    Los Angeles    518\n",
       "26     Debit Card          Miami    485\n",
       "27     Debit Card       New York    453\n",
       "28     Debit Card  San Francisco    483\n",
       "29     Debit Card        Seattle    512"
      ]
     },
     "execution_count": 96,
     "metadata": {},
     "output_type": "execute_result"
    }
   ],
   "source": [
    "# Filtering where 'Payment_Method' is 'Debit Card'\n",
    "debit_card_payments = high_value_df[high_value_df['Payment_Method'] == 'Debit Card']\n",
    "debit_card_payments"
   ]
  },
  {
   "cell_type": "code",
   "execution_count": 97,
   "metadata": {
    "execution": {
     "iopub.execute_input": "2024-12-08T13:32:49.971078Z",
     "iopub.status.busy": "2024-12-08T13:32:49.970518Z",
     "iopub.status.idle": "2024-12-08T13:32:51.006894Z",
     "shell.execute_reply": "2024-12-08T13:32:51.005876Z",
     "shell.execute_reply.started": "2024-12-08T13:32:49.971023Z"
    }
   },
   "outputs": [
    {
     "data": {
      "image/png": "[encoded data removed]",
      "text/plain": [
       "<Figure size 1200x600 with 1 Axes>"
      ]
     },
     "metadata": {},
     "output_type": "display_data"
    }
   ],
   "source": [
    "# Creating the grouped bar chart\n",
    "plt.figure(figsize=(12, 6))\n",
    "ax = sns.barplot(data=debit_card_payments, x='City', y='Count', \n",
    "                 hue='Payment_Method', palette='Set1')\n",
    "\n",
    "# Adding values on top of bars\n",
    "for container in ax.containers:\n",
    "    ax.bar_label(container, fmt='%.2f', label_type='edge', fontsize=8, padding=3)\n",
    "\n",
    "#Showing the plot\n",
    "plt.title('High-Value Transaction Using Debit Card in Different Cities', fontsize=16)\n",
    "plt.xlabel('City', fontsize=12)\n",
    "plt.ylabel('Number of High-Value Transaction', fontsize=12)\n",
    "plt.xticks(rotation=0, ha='center', fontsize=10)\n",
    "plt.legend(title='Payment Method', fontsize=10, loc='lower right')\n",
    "plt.tight_layout()\n",
    "\n",
    "# Saving the plot\n",
    "plt.savefig('/kaggle/working/04_Transactions_Using_Dabit_Card.png', dpi=300, bbox_inches='tight')\n",
    "\n",
    "plt.show()"
   ]
  },
  {
   "cell_type": "markdown",
   "metadata": {},
   "source": [
    "This data focuses on **Debit Card transactions** across 10 cities, summarizing the transaction counts as follows:\n",
    "\n",
    "> **Highest Transactions:**    - **Dallas** recorded the highest number of Debit Card transactions with **538**.\n",
    "> \n",
    "> **Lowest Transactions:**    - **Atlanta** had the lowest number of transactions, with **451**.\n",
    ">   \n",
    "> **Other Cities:**  Cities like **Seattle (512)**, **Los Angeles (518)**, and **Houston (492)** also show high transaction counts.   - **Boston (484)**, **Chicago (484)**, **Miami (485)**, and **San Francisco (483)** have nearly identical transaction counts, indicating similar patterns of Debit Card usage. **New York (453)** has slightly lower transaction counts compared to other major Cities.\n",
    " other major cities.\n",
    "\n",
    "The data highlights **Dallas** as the city with the highest usage of Debit Cards and **Atlanta** as the lowest. Overall, transaction counts vary but show a moderate-to-high adoption of Debit Cards across cities."
   ]
  },
  {
   "cell_type": "markdown",
   "metadata": {},
   "source": [
    "## **03. How do the sales amounts in transactions with discounts compare to those without discounts, and what trends can be observed over the month?**?"
   ]
  },
  {
   "cell_type": "code",
   "execution_count": 98,
   "metadata": {
    "execution": {
     "iopub.execute_input": "2024-12-08T13:32:51.008877Z",
     "iopub.status.busy": "2024-12-08T13:32:51.008420Z",
     "iopub.status.idle": "2024-12-08T13:32:51.023708Z",
     "shell.execute_reply": "2024-12-08T13:32:51.022550Z",
     "shell.execute_reply.started": "2024-12-08T13:32:51.008819Z"
    }
   },
   "outputs": [
    {
     "data": {
      "text/html": [
       "<div>\n",
       "<style scoped>\n",
       "    .dataframe tbody tr th:only-of-type {\n",
       "        vertical-align: middle;\n",
       "    }\n",
       "\n",
       "    .dataframe tbody tr th {\n",
       "        vertical-align: top;\n",
       "    }\n",
       "\n",
       "    .dataframe thead th {\n",
       "        text-align: right;\n",
       "    }\n",
       "</style>\n",
       "<table border=\"1\" class=\"dataframe\">\n",
       "  <thead>\n",
       "    <tr style=\"text-align: right;\">\n",
       "      <th></th>\n",
       "      <th>Transaction_ID</th>\n",
       "      <th>Total_Items</th>\n",
       "      <th>Amount($)</th>\n",
       "      <th>Payment_Method</th>\n",
       "      <th>City</th>\n",
       "      <th>Store_Type</th>\n",
       "      <th>Discount_Applied</th>\n",
       "      <th>Customer_Category</th>\n",
       "      <th>Season</th>\n",
       "      <th>Promotion</th>\n",
       "    </tr>\n",
       "  </thead>\n",
       "  <tbody>\n",
       "    <tr>\n",
       "      <th>0</th>\n",
       "      <td>1000667075</td>\n",
       "      <td>5</td>\n",
       "      <td>30.98</td>\n",
       "      <td>Debit Card</td>\n",
       "      <td>Chicago</td>\n",
       "      <td>Warehouse Club</td>\n",
       "      <td>True</td>\n",
       "      <td>Teenager</td>\n",
       "      <td>Fall</td>\n",
       "      <td>BOGO (Buy One Get One)</td>\n",
       "    </tr>\n",
       "    <tr>\n",
       "      <th>1</th>\n",
       "      <td>1000156022</td>\n",
       "      <td>3</td>\n",
       "      <td>23.29</td>\n",
       "      <td>Credit Card</td>\n",
       "      <td>Boston</td>\n",
       "      <td>Warehouse Club</td>\n",
       "      <td>True</td>\n",
       "      <td>Homemaker</td>\n",
       "      <td>Winter</td>\n",
       "      <td>Discount on Selected Items</td>\n",
       "    </tr>\n",
       "  </tbody>\n",
       "</table>\n",
       "</div>"
      ],
      "text/plain": [
       "   Transaction_ID  Total_Items  Amount($) Payment_Method     City  \\\n",
       "0      1000667075            5      30.98     Debit Card  Chicago   \n",
       "1      1000156022            3      23.29    Credit Card   Boston   \n",
       "\n",
       "       Store_Type  Discount_Applied Customer_Category  Season  \\\n",
       "0  Warehouse Club              True          Teenager    Fall   \n",
       "1  Warehouse Club              True         Homemaker  Winter   \n",
       "\n",
       "                    Promotion  \n",
       "0      BOGO (Buy One Get One)  \n",
       "1  Discount on Selected Items  "
      ]
     },
     "execution_count": 98,
     "metadata": {},
     "output_type": "execute_result"
    }
   ],
   "source": [
    "df.head(2)"
   ]
  },
  {
   "cell_type": "code",
   "execution_count": 99,
   "metadata": {
    "execution": {
     "iopub.execute_input": "2024-12-08T13:32:51.025534Z",
     "iopub.status.busy": "2024-12-08T13:32:51.025210Z",
     "iopub.status.idle": "2024-12-08T13:32:51.043974Z",
     "shell.execute_reply": "2024-12-08T13:32:51.042738Z",
     "shell.execute_reply.started": "2024-12-08T13:32:51.025503Z"
    }
   },
   "outputs": [
    {
     "data": {
      "text/html": [
       "<div>\n",
       "<style scoped>\n",
       "    .dataframe tbody tr th:only-of-type {\n",
       "        vertical-align: middle;\n",
       "    }\n",
       "\n",
       "    .dataframe tbody tr th {\n",
       "        vertical-align: top;\n",
       "    }\n",
       "\n",
       "    .dataframe thead th {\n",
       "        text-align: right;\n",
       "    }\n",
       "</style>\n",
       "<table border=\"1\" class=\"dataframe\">\n",
       "  <thead>\n",
       "    <tr style=\"text-align: right;\">\n",
       "      <th></th>\n",
       "      <th>Transaction_ID</th>\n",
       "      <th>Discount_Applied</th>\n",
       "      <th>Season</th>\n",
       "    </tr>\n",
       "  </thead>\n",
       "  <tbody>\n",
       "    <tr>\n",
       "      <th>0</th>\n",
       "      <td>1000667075</td>\n",
       "      <td>True</td>\n",
       "      <td>Fall</td>\n",
       "    </tr>\n",
       "    <tr>\n",
       "      <th>1</th>\n",
       "      <td>1000156022</td>\n",
       "      <td>True</td>\n",
       "      <td>Winter</td>\n",
       "    </tr>\n",
       "    <tr>\n",
       "      <th>2</th>\n",
       "      <td>1000681674</td>\n",
       "      <td>False</td>\n",
       "      <td>Fall</td>\n",
       "    </tr>\n",
       "    <tr>\n",
       "      <th>3</th>\n",
       "      <td>1000692089</td>\n",
       "      <td>False</td>\n",
       "      <td>Summer</td>\n",
       "    </tr>\n",
       "    <tr>\n",
       "      <th>4</th>\n",
       "      <td>1000328702</td>\n",
       "      <td>False</td>\n",
       "      <td>Summer</td>\n",
       "    </tr>\n",
       "  </tbody>\n",
       "</table>\n",
       "</div>"
      ],
      "text/plain": [
       "   Transaction_ID  Discount_Applied  Season\n",
       "0      1000667075              True    Fall\n",
       "1      1000156022              True  Winter\n",
       "2      1000681674             False    Fall\n",
       "3      1000692089             False  Summer\n",
       "4      1000328702             False  Summer"
      ]
     },
     "execution_count": 99,
     "metadata": {},
     "output_type": "execute_result"
    }
   ],
   "source": [
    "columns_to_drop_03 = ['Total_Items', 'Amount($)',\n",
    "                      'Payment_Method','City',\n",
    "                      'Store_Type','Customer_Category',\n",
    "                      'Promotion']\n",
    "df_03 = df.drop(columns=columns_to_drop_03)\n",
    "df_03.head()"
   ]
  },
  {
   "cell_type": "code",
   "execution_count": 100,
   "metadata": {
    "execution": {
     "iopub.execute_input": "2024-12-08T13:32:51.045521Z",
     "iopub.status.busy": "2024-12-08T13:32:51.045158Z",
     "iopub.status.idle": "2024-12-08T13:32:51.054042Z",
     "shell.execute_reply": "2024-12-08T13:32:51.053000Z",
     "shell.execute_reply.started": "2024-12-08T13:32:51.045486Z"
    }
   },
   "outputs": [
    {
     "data": {
      "text/plain": [
       "(38500, 3)"
      ]
     },
     "execution_count": 100,
     "metadata": {},
     "output_type": "execute_result"
    }
   ],
   "source": [
    "df_03.shape"
   ]
  },
  {
   "cell_type": "code",
   "execution_count": 101,
   "metadata": {
    "execution": {
     "iopub.execute_input": "2024-12-08T13:32:51.056059Z",
     "iopub.status.busy": "2024-12-08T13:32:51.055573Z",
     "iopub.status.idle": "2024-12-08T13:32:51.073680Z",
     "shell.execute_reply": "2024-12-08T13:32:51.072287Z",
     "shell.execute_reply.started": "2024-12-08T13:32:51.056011Z"
    }
   },
   "outputs": [
    {
     "data": {
      "text/html": [
       "<div>\n",
       "<style scoped>\n",
       "    .dataframe tbody tr th:only-of-type {\n",
       "        vertical-align: middle;\n",
       "    }\n",
       "\n",
       "    .dataframe tbody tr th {\n",
       "        vertical-align: top;\n",
       "    }\n",
       "\n",
       "    .dataframe thead th {\n",
       "        text-align: right;\n",
       "    }\n",
       "</style>\n",
       "<table border=\"1\" class=\"dataframe\">\n",
       "  <thead>\n",
       "    <tr style=\"text-align: right;\">\n",
       "      <th></th>\n",
       "      <th>Transaction_ID</th>\n",
       "      <th>Discount_Applied</th>\n",
       "      <th>Season</th>\n",
       "    </tr>\n",
       "  </thead>\n",
       "  <tbody>\n",
       "    <tr>\n",
       "      <th>0</th>\n",
       "      <td>1</td>\n",
       "      <td>True</td>\n",
       "      <td>Fall</td>\n",
       "    </tr>\n",
       "    <tr>\n",
       "      <th>1</th>\n",
       "      <td>2</td>\n",
       "      <td>True</td>\n",
       "      <td>Winter</td>\n",
       "    </tr>\n",
       "    <tr>\n",
       "      <th>2</th>\n",
       "      <td>3</td>\n",
       "      <td>False</td>\n",
       "      <td>Fall</td>\n",
       "    </tr>\n",
       "    <tr>\n",
       "      <th>3</th>\n",
       "      <td>4</td>\n",
       "      <td>False</td>\n",
       "      <td>Summer</td>\n",
       "    </tr>\n",
       "    <tr>\n",
       "      <th>4</th>\n",
       "      <td>5</td>\n",
       "      <td>False</td>\n",
       "      <td>Summer</td>\n",
       "    </tr>\n",
       "  </tbody>\n",
       "</table>\n",
       "</div>"
      ],
      "text/plain": [
       "   Transaction_ID  Discount_Applied  Season\n",
       "0               1              True    Fall\n",
       "1               2              True  Winter\n",
       "2               3             False    Fall\n",
       "3               4             False  Summer\n",
       "4               5             False  Summer"
      ]
     },
     "execution_count": 101,
     "metadata": {},
     "output_type": "execute_result"
    }
   ],
   "source": [
    "df_03[\"Transaction_ID\"] = range(1, len(df_03) + 1)\n",
    "df_03.head()"
   ]
  },
  {
   "cell_type": "code",
   "execution_count": 102,
   "metadata": {
    "execution": {
     "iopub.execute_input": "2024-12-08T13:32:51.076011Z",
     "iopub.status.busy": "2024-12-08T13:32:51.075590Z",
     "iopub.status.idle": "2024-12-08T13:32:51.089196Z",
     "shell.execute_reply": "2024-12-08T13:32:51.087956Z",
     "shell.execute_reply.started": "2024-12-08T13:32:51.075974Z"
    }
   },
   "outputs": [
    {
     "data": {
      "text/plain": [
       "Discount_Applied\n",
       "True     19433\n",
       "False    19067\n",
       "Name: count, dtype: int64"
      ]
     },
     "execution_count": 102,
     "metadata": {},
     "output_type": "execute_result"
    }
   ],
   "source": [
    "discount_counts = df_03['Discount_Applied'].value_counts()\n",
    "discount_counts"
   ]
  },
  {
   "cell_type": "code",
   "execution_count": 103,
   "metadata": {
    "execution": {
     "iopub.execute_input": "2024-12-08T13:32:51.090462Z",
     "iopub.status.busy": "2024-12-08T13:32:51.090122Z",
     "iopub.status.idle": "2024-12-08T13:32:51.106298Z",
     "shell.execute_reply": "2024-12-08T13:32:51.104996Z",
     "shell.execute_reply.started": "2024-12-08T13:32:51.090431Z"
    }
   },
   "outputs": [
    {
     "data": {
      "text/plain": [
       "array(['Fall', 'Winter', 'Summer', 'Spring'], dtype=object)"
      ]
     },
     "execution_count": 103,
     "metadata": {},
     "output_type": "execute_result"
    }
   ],
   "source": [
    "df_03['Season'].unique()"
   ]
  },
  {
   "cell_type": "code",
   "execution_count": 104,
   "metadata": {
    "execution": {
     "iopub.execute_input": "2024-12-08T13:32:51.108507Z",
     "iopub.status.busy": "2024-12-08T13:32:51.108044Z",
     "iopub.status.idle": "2024-12-08T13:32:51.130369Z",
     "shell.execute_reply": "2024-12-08T13:32:51.129230Z",
     "shell.execute_reply.started": "2024-12-08T13:32:51.108457Z"
    }
   },
   "outputs": [
    {
     "data": {
      "text/html": [
       "<div>\n",
       "<style scoped>\n",
       "    .dataframe tbody tr th:only-of-type {\n",
       "        vertical-align: middle;\n",
       "    }\n",
       "\n",
       "    .dataframe tbody tr th {\n",
       "        vertical-align: top;\n",
       "    }\n",
       "\n",
       "    .dataframe thead th {\n",
       "        text-align: right;\n",
       "    }\n",
       "</style>\n",
       "<table border=\"1\" class=\"dataframe\">\n",
       "  <thead>\n",
       "    <tr style=\"text-align: right;\">\n",
       "      <th>Discount_Applied</th>\n",
       "      <th>False</th>\n",
       "      <th>True</th>\n",
       "    </tr>\n",
       "    <tr>\n",
       "      <th>Season</th>\n",
       "      <th></th>\n",
       "      <th></th>\n",
       "    </tr>\n",
       "  </thead>\n",
       "  <tbody>\n",
       "    <tr>\n",
       "      <th>Fall</th>\n",
       "      <td>4811</td>\n",
       "      <td>4938</td>\n",
       "    </tr>\n",
       "    <tr>\n",
       "      <th>Spring</th>\n",
       "      <td>4806</td>\n",
       "      <td>4796</td>\n",
       "    </tr>\n",
       "    <tr>\n",
       "      <th>Summer</th>\n",
       "      <td>4718</td>\n",
       "      <td>4849</td>\n",
       "    </tr>\n",
       "    <tr>\n",
       "      <th>Winter</th>\n",
       "      <td>4732</td>\n",
       "      <td>4850</td>\n",
       "    </tr>\n",
       "  </tbody>\n",
       "</table>\n",
       "</div>"
      ],
      "text/plain": [
       "Discount_Applied  False  True \n",
       "Season                        \n",
       "Fall               4811   4938\n",
       "Spring             4806   4796\n",
       "Summer             4718   4849\n",
       "Winter             4732   4850"
      ]
     },
     "execution_count": 104,
     "metadata": {},
     "output_type": "execute_result"
    }
   ],
   "source": [
    "discount_by_season = df_03.groupby(['Season', 'Discount_Applied']).size().unstack(fill_value=0)\n",
    "discount_by_season"
   ]
  },
  {
   "cell_type": "code",
   "execution_count": 105,
   "metadata": {
    "execution": {
     "iopub.execute_input": "2024-12-08T13:32:51.132682Z",
     "iopub.status.busy": "2024-12-08T13:32:51.132240Z",
     "iopub.status.idle": "2024-12-08T13:32:51.898087Z",
     "shell.execute_reply": "2024-12-08T13:32:51.896923Z",
     "shell.execute_reply.started": "2024-12-08T13:32:51.132614Z"
    }
   },
   "outputs": [
    {
     "data": {
      "image/png": "[encoded data removed]",
      "text/plain": [
       "<Figure size 1200x600 with 1 Axes>"
      ]
     },
     "metadata": {},
     "output_type": "display_data"
    }
   ],
   "source": [
    "# Plotting the heatmap\n",
    "plt.figure(figsize=(12, 6))\n",
    "sns.heatmap(discount_by_season, annot=True, cmap='rocket', fmt='g', cbar=False)\n",
    "\n",
    "# Customizing the plot\n",
    "plt.title('Number of Transactions by Season and Discount Applied', fontsize=16)\n",
    "plt.xlabel('Discount Applied', fontsize=12)\n",
    "plt.ylabel('Season', fontsize=12)\n",
    "\n",
    "\n",
    "plt.savefig('/kaggle/working/05_no_of_transaction_season_discount_03.png', dpi=300, bbox_inches='tight')\n",
    "\n",
    "plt.show()"
   ]
  },
  {
   "cell_type": "markdown",
   "metadata": {},
   "source": [
    "\n",
    "> Across all seasons, there are more transactions with discounts than without. Here’s a quick summary:\n",
    ">\n",
    "> Fall has the largest difference, with slightly more transactions getting discounts. The summer follows, with discounts applied in more transactions than not. Moreover winter also shows more discounted transactions, but the gap is smaller than Fall and Summer. Whereas Spring is the closest, with nearly the same number of discounted and non-discounted transactions.\n",
    "> \n",
    "> In short, discounts are most popular in Fall and Summer, and less emphasized in Spring.\n"
   ]
  },
  {
   "cell_type": "markdown",
   "metadata": {},
   "source": [
    "## **04. What are the top three cities with the highest average number of items per transaction, and how do their sales amounts vary across seasons?**?"
   ]
  },
  {
   "cell_type": "code",
   "execution_count": 106,
   "metadata": {
    "execution": {
     "iopub.execute_input": "2024-12-08T13:32:51.900125Z",
     "iopub.status.busy": "2024-12-08T13:32:51.899666Z",
     "iopub.status.idle": "2024-12-08T13:32:51.915254Z",
     "shell.execute_reply": "2024-12-08T13:32:51.913760Z",
     "shell.execute_reply.started": "2024-12-08T13:32:51.900075Z"
    }
   },
   "outputs": [
    {
     "data": {
      "text/html": [
       "<div>\n",
       "<style scoped>\n",
       "    .dataframe tbody tr th:only-of-type {\n",
       "        vertical-align: middle;\n",
       "    }\n",
       "\n",
       "    .dataframe tbody tr th {\n",
       "        vertical-align: top;\n",
       "    }\n",
       "\n",
       "    .dataframe thead th {\n",
       "        text-align: right;\n",
       "    }\n",
       "</style>\n",
       "<table border=\"1\" class=\"dataframe\">\n",
       "  <thead>\n",
       "    <tr style=\"text-align: right;\">\n",
       "      <th></th>\n",
       "      <th>Transaction_ID</th>\n",
       "      <th>Total_Items</th>\n",
       "      <th>Amount($)</th>\n",
       "      <th>Payment_Method</th>\n",
       "      <th>City</th>\n",
       "      <th>Store_Type</th>\n",
       "      <th>Discount_Applied</th>\n",
       "      <th>Customer_Category</th>\n",
       "      <th>Season</th>\n",
       "      <th>Promotion</th>\n",
       "    </tr>\n",
       "  </thead>\n",
       "  <tbody>\n",
       "    <tr>\n",
       "      <th>0</th>\n",
       "      <td>1000667075</td>\n",
       "      <td>5</td>\n",
       "      <td>30.98</td>\n",
       "      <td>Debit Card</td>\n",
       "      <td>Chicago</td>\n",
       "      <td>Warehouse Club</td>\n",
       "      <td>True</td>\n",
       "      <td>Teenager</td>\n",
       "      <td>Fall</td>\n",
       "      <td>BOGO (Buy One Get One)</td>\n",
       "    </tr>\n",
       "    <tr>\n",
       "      <th>1</th>\n",
       "      <td>1000156022</td>\n",
       "      <td>3</td>\n",
       "      <td>23.29</td>\n",
       "      <td>Credit Card</td>\n",
       "      <td>Boston</td>\n",
       "      <td>Warehouse Club</td>\n",
       "      <td>True</td>\n",
       "      <td>Homemaker</td>\n",
       "      <td>Winter</td>\n",
       "      <td>Discount on Selected Items</td>\n",
       "    </tr>\n",
       "  </tbody>\n",
       "</table>\n",
       "</div>"
      ],
      "text/plain": [
       "   Transaction_ID  Total_Items  Amount($) Payment_Method     City  \\\n",
       "0      1000667075            5      30.98     Debit Card  Chicago   \n",
       "1      1000156022            3      23.29    Credit Card   Boston   \n",
       "\n",
       "       Store_Type  Discount_Applied Customer_Category  Season  \\\n",
       "0  Warehouse Club              True          Teenager    Fall   \n",
       "1  Warehouse Club              True         Homemaker  Winter   \n",
       "\n",
       "                    Promotion  \n",
       "0      BOGO (Buy One Get One)  \n",
       "1  Discount on Selected Items  "
      ]
     },
     "execution_count": 106,
     "metadata": {},
     "output_type": "execute_result"
    }
   ],
   "source": [
    "df.head(2)"
   ]
  },
  {
   "cell_type": "code",
   "execution_count": 107,
   "metadata": {
    "execution": {
     "iopub.execute_input": "2024-12-08T13:32:51.917072Z",
     "iopub.status.busy": "2024-12-08T13:32:51.916687Z",
     "iopub.status.idle": "2024-12-08T13:32:51.937246Z",
     "shell.execute_reply": "2024-12-08T13:32:51.935980Z",
     "shell.execute_reply.started": "2024-12-08T13:32:51.917032Z"
    }
   },
   "outputs": [
    {
     "data": {
      "text/html": [
       "<div>\n",
       "<style scoped>\n",
       "    .dataframe tbody tr th:only-of-type {\n",
       "        vertical-align: middle;\n",
       "    }\n",
       "\n",
       "    .dataframe tbody tr th {\n",
       "        vertical-align: top;\n",
       "    }\n",
       "\n",
       "    .dataframe thead th {\n",
       "        text-align: right;\n",
       "    }\n",
       "</style>\n",
       "<table border=\"1\" class=\"dataframe\">\n",
       "  <thead>\n",
       "    <tr style=\"text-align: right;\">\n",
       "      <th></th>\n",
       "      <th>Transaction_ID</th>\n",
       "      <th>Total_Items</th>\n",
       "      <th>City</th>\n",
       "      <th>Season</th>\n",
       "    </tr>\n",
       "  </thead>\n",
       "  <tbody>\n",
       "    <tr>\n",
       "      <th>0</th>\n",
       "      <td>1000667075</td>\n",
       "      <td>5</td>\n",
       "      <td>Chicago</td>\n",
       "      <td>Fall</td>\n",
       "    </tr>\n",
       "    <tr>\n",
       "      <th>1</th>\n",
       "      <td>1000156022</td>\n",
       "      <td>3</td>\n",
       "      <td>Boston</td>\n",
       "      <td>Winter</td>\n",
       "    </tr>\n",
       "    <tr>\n",
       "      <th>2</th>\n",
       "      <td>1000681674</td>\n",
       "      <td>7</td>\n",
       "      <td>Chicago</td>\n",
       "      <td>Fall</td>\n",
       "    </tr>\n",
       "    <tr>\n",
       "      <th>3</th>\n",
       "      <td>1000692089</td>\n",
       "      <td>5</td>\n",
       "      <td>Atlanta</td>\n",
       "      <td>Summer</td>\n",
       "    </tr>\n",
       "    <tr>\n",
       "      <th>4</th>\n",
       "      <td>1000328702</td>\n",
       "      <td>4</td>\n",
       "      <td>Miami</td>\n",
       "      <td>Summer</td>\n",
       "    </tr>\n",
       "  </tbody>\n",
       "</table>\n",
       "</div>"
      ],
      "text/plain": [
       "   Transaction_ID  Total_Items     City  Season\n",
       "0      1000667075            5  Chicago    Fall\n",
       "1      1000156022            3   Boston  Winter\n",
       "2      1000681674            7  Chicago    Fall\n",
       "3      1000692089            5  Atlanta  Summer\n",
       "4      1000328702            4    Miami  Summer"
      ]
     },
     "execution_count": 107,
     "metadata": {},
     "output_type": "execute_result"
    }
   ],
   "source": [
    "columns_to_drop_04 = ['Amount($)',\n",
    "                      'Payment_Method',\n",
    "                      'Store_Type','Discount_Applied','Customer_Category',\n",
    "                      'Promotion']\n",
    "df_04 = df.drop(columns=columns_to_drop_04)\n",
    "df_04.head()"
   ]
  },
  {
   "cell_type": "code",
   "execution_count": 108,
   "metadata": {
    "execution": {
     "iopub.execute_input": "2024-12-08T13:32:51.938939Z",
     "iopub.status.busy": "2024-12-08T13:32:51.938463Z",
     "iopub.status.idle": "2024-12-08T13:32:51.957423Z",
     "shell.execute_reply": "2024-12-08T13:32:51.956348Z",
     "shell.execute_reply.started": "2024-12-08T13:32:51.938901Z"
    }
   },
   "outputs": [
    {
     "data": {
      "text/html": [
       "<div>\n",
       "<style scoped>\n",
       "    .dataframe tbody tr th:only-of-type {\n",
       "        vertical-align: middle;\n",
       "    }\n",
       "\n",
       "    .dataframe tbody tr th {\n",
       "        vertical-align: top;\n",
       "    }\n",
       "\n",
       "    .dataframe thead th {\n",
       "        text-align: right;\n",
       "    }\n",
       "</style>\n",
       "<table border=\"1\" class=\"dataframe\">\n",
       "  <thead>\n",
       "    <tr style=\"text-align: right;\">\n",
       "      <th></th>\n",
       "      <th>Transaction_ID</th>\n",
       "      <th>Total_Items</th>\n",
       "      <th>City</th>\n",
       "      <th>Season</th>\n",
       "    </tr>\n",
       "  </thead>\n",
       "  <tbody>\n",
       "    <tr>\n",
       "      <th>0</th>\n",
       "      <td>1</td>\n",
       "      <td>5</td>\n",
       "      <td>Chicago</td>\n",
       "      <td>Fall</td>\n",
       "    </tr>\n",
       "    <tr>\n",
       "      <th>1</th>\n",
       "      <td>2</td>\n",
       "      <td>3</td>\n",
       "      <td>Boston</td>\n",
       "      <td>Winter</td>\n",
       "    </tr>\n",
       "    <tr>\n",
       "      <th>2</th>\n",
       "      <td>3</td>\n",
       "      <td>7</td>\n",
       "      <td>Chicago</td>\n",
       "      <td>Fall</td>\n",
       "    </tr>\n",
       "    <tr>\n",
       "      <th>3</th>\n",
       "      <td>4</td>\n",
       "      <td>5</td>\n",
       "      <td>Atlanta</td>\n",
       "      <td>Summer</td>\n",
       "    </tr>\n",
       "    <tr>\n",
       "      <th>4</th>\n",
       "      <td>5</td>\n",
       "      <td>4</td>\n",
       "      <td>Miami</td>\n",
       "      <td>Summer</td>\n",
       "    </tr>\n",
       "  </tbody>\n",
       "</table>\n",
       "</div>"
      ],
      "text/plain": [
       "   Transaction_ID  Total_Items     City  Season\n",
       "0               1            5  Chicago    Fall\n",
       "1               2            3   Boston  Winter\n",
       "2               3            7  Chicago    Fall\n",
       "3               4            5  Atlanta  Summer\n",
       "4               5            4    Miami  Summer"
      ]
     },
     "execution_count": 108,
     "metadata": {},
     "output_type": "execute_result"
    }
   ],
   "source": [
    "df_04[\"Transaction_ID\"] = range(1, len(df_04) + 1)\n",
    "df_04.head()"
   ]
  },
  {
   "cell_type": "code",
   "execution_count": 109,
   "metadata": {
    "execution": {
     "iopub.execute_input": "2024-12-08T13:32:51.959457Z",
     "iopub.status.busy": "2024-12-08T13:32:51.959036Z",
     "iopub.status.idle": "2024-12-08T13:32:51.978719Z",
     "shell.execute_reply": "2024-12-08T13:32:51.977470Z",
     "shell.execute_reply.started": "2024-12-08T13:32:51.959409Z"
    }
   },
   "outputs": [
    {
     "data": {
      "text/plain": [
       "City\n",
       "Chicago    5.547601\n",
       "Houston    5.530272\n",
       "Miami      5.521909\n",
       "Name: Total_Items, dtype: float64"
      ]
     },
     "execution_count": 109,
     "metadata": {},
     "output_type": "execute_result"
    }
   ],
   "source": [
    "# Average items per transaction by city\n",
    "avg_items_per_city = df_04.groupby(\"City\")[\"Total_Items\"].mean().sort_values(ascending=False)\n",
    "\n",
    "# top 3 cities\n",
    "top_cities = avg_items_per_city.head(3)\n",
    "top_cities"
   ]
  },
  {
   "cell_type": "markdown",
   "metadata": {},
   "source": [
    "These are the top three cities having average items per transaction."
   ]
  },
  {
   "cell_type": "code",
   "execution_count": 110,
   "metadata": {
    "execution": {
     "iopub.execute_input": "2024-12-08T13:32:51.980354Z",
     "iopub.status.busy": "2024-12-08T13:32:51.980024Z",
     "iopub.status.idle": "2024-12-08T13:32:52.003112Z",
     "shell.execute_reply": "2024-12-08T13:32:52.001729Z",
     "shell.execute_reply.started": "2024-12-08T13:32:51.980311Z"
    }
   },
   "outputs": [
    {
     "data": {
      "text/html": [
       "<div>\n",
       "<style scoped>\n",
       "    .dataframe tbody tr th:only-of-type {\n",
       "        vertical-align: middle;\n",
       "    }\n",
       "\n",
       "    .dataframe tbody tr th {\n",
       "        vertical-align: top;\n",
       "    }\n",
       "\n",
       "    .dataframe thead th {\n",
       "        text-align: right;\n",
       "    }\n",
       "</style>\n",
       "<table border=\"1\" class=\"dataframe\">\n",
       "  <thead>\n",
       "    <tr style=\"text-align: right;\">\n",
       "      <th>Season</th>\n",
       "      <th>Fall</th>\n",
       "      <th>Spring</th>\n",
       "      <th>Summer</th>\n",
       "      <th>Winter</th>\n",
       "    </tr>\n",
       "    <tr>\n",
       "      <th>City</th>\n",
       "      <th></th>\n",
       "      <th></th>\n",
       "      <th></th>\n",
       "      <th></th>\n",
       "    </tr>\n",
       "  </thead>\n",
       "  <tbody>\n",
       "    <tr>\n",
       "      <th>Atlanta</th>\n",
       "      <td>5296</td>\n",
       "      <td>5095</td>\n",
       "      <td>4921</td>\n",
       "      <td>5158</td>\n",
       "    </tr>\n",
       "    <tr>\n",
       "      <th>Boston</th>\n",
       "      <td>5707</td>\n",
       "      <td>5108</td>\n",
       "      <td>5262</td>\n",
       "      <td>5264</td>\n",
       "    </tr>\n",
       "    <tr>\n",
       "      <th>Chicago</th>\n",
       "      <td>5287</td>\n",
       "      <td>5482</td>\n",
       "      <td>5323</td>\n",
       "      <td>5294</td>\n",
       "    </tr>\n",
       "    <tr>\n",
       "      <th>Dallas</th>\n",
       "      <td>5062</td>\n",
       "      <td>5278</td>\n",
       "      <td>5130</td>\n",
       "      <td>5441</td>\n",
       "    </tr>\n",
       "    <tr>\n",
       "      <th>Houston</th>\n",
       "      <td>5348</td>\n",
       "      <td>5294</td>\n",
       "      <td>5385</td>\n",
       "      <td>5530</td>\n",
       "    </tr>\n",
       "    <tr>\n",
       "      <th>Los Angeles</th>\n",
       "      <td>5345</td>\n",
       "      <td>5209</td>\n",
       "      <td>5163</td>\n",
       "      <td>5510</td>\n",
       "    </tr>\n",
       "    <tr>\n",
       "      <th>Miami</th>\n",
       "      <td>5587</td>\n",
       "      <td>5186</td>\n",
       "      <td>5288</td>\n",
       "      <td>5110</td>\n",
       "    </tr>\n",
       "    <tr>\n",
       "      <th>New York</th>\n",
       "      <td>5277</td>\n",
       "      <td>5353</td>\n",
       "      <td>5385</td>\n",
       "      <td>5208</td>\n",
       "    </tr>\n",
       "    <tr>\n",
       "      <th>San Francisco</th>\n",
       "      <td>5335</td>\n",
       "      <td>5413</td>\n",
       "      <td>5262</td>\n",
       "      <td>5223</td>\n",
       "    </tr>\n",
       "    <tr>\n",
       "      <th>Seattle</th>\n",
       "      <td>4985</td>\n",
       "      <td>5281</td>\n",
       "      <td>5385</td>\n",
       "      <td>5220</td>\n",
       "    </tr>\n",
       "  </tbody>\n",
       "</table>\n",
       "</div>"
      ],
      "text/plain": [
       "Season         Fall  Spring  Summer  Winter\n",
       "City                                       \n",
       "Atlanta        5296    5095    4921    5158\n",
       "Boston         5707    5108    5262    5264\n",
       "Chicago        5287    5482    5323    5294\n",
       "Dallas         5062    5278    5130    5441\n",
       "Houston        5348    5294    5385    5530\n",
       "Los Angeles    5345    5209    5163    5510\n",
       "Miami          5587    5186    5288    5110\n",
       "New York       5277    5353    5385    5208\n",
       "San Francisco  5335    5413    5262    5223\n",
       "Seattle        4985    5281    5385    5220"
      ]
     },
     "execution_count": 110,
     "metadata": {},
     "output_type": "execute_result"
    }
   ],
   "source": [
    "sales_by_season = df_04.groupby([\"City\", \"Season\"])[\"Total_Items\"].sum().unstack(fill_value=0)\n",
    "sales_by_season"
   ]
  },
  {
   "cell_type": "code",
   "execution_count": 111,
   "metadata": {
    "execution": {
     "iopub.execute_input": "2024-12-08T13:32:52.004594Z",
     "iopub.status.busy": "2024-12-08T13:32:52.004282Z",
     "iopub.status.idle": "2024-12-08T13:32:52.016379Z",
     "shell.execute_reply": "2024-12-08T13:32:52.015228Z",
     "shell.execute_reply.started": "2024-12-08T13:32:52.004561Z"
    }
   },
   "outputs": [
    {
     "data": {
      "text/html": [
       "<div>\n",
       "<style scoped>\n",
       "    .dataframe tbody tr th:only-of-type {\n",
       "        vertical-align: middle;\n",
       "    }\n",
       "\n",
       "    .dataframe tbody tr th {\n",
       "        vertical-align: top;\n",
       "    }\n",
       "\n",
       "    .dataframe thead th {\n",
       "        text-align: right;\n",
       "    }\n",
       "</style>\n",
       "<table border=\"1\" class=\"dataframe\">\n",
       "  <thead>\n",
       "    <tr style=\"text-align: right;\">\n",
       "      <th>Season</th>\n",
       "      <th>Fall</th>\n",
       "      <th>Spring</th>\n",
       "      <th>Summer</th>\n",
       "      <th>Winter</th>\n",
       "    </tr>\n",
       "    <tr>\n",
       "      <th>City</th>\n",
       "      <th></th>\n",
       "      <th></th>\n",
       "      <th></th>\n",
       "      <th></th>\n",
       "    </tr>\n",
       "  </thead>\n",
       "  <tbody>\n",
       "    <tr>\n",
       "      <th>Chicago</th>\n",
       "      <td>5287</td>\n",
       "      <td>5482</td>\n",
       "      <td>5323</td>\n",
       "      <td>5294</td>\n",
       "    </tr>\n",
       "    <tr>\n",
       "      <th>Houston</th>\n",
       "      <td>5348</td>\n",
       "      <td>5294</td>\n",
       "      <td>5385</td>\n",
       "      <td>5530</td>\n",
       "    </tr>\n",
       "    <tr>\n",
       "      <th>Miami</th>\n",
       "      <td>5587</td>\n",
       "      <td>5186</td>\n",
       "      <td>5288</td>\n",
       "      <td>5110</td>\n",
       "    </tr>\n",
       "  </tbody>\n",
       "</table>\n",
       "</div>"
      ],
      "text/plain": [
       "Season   Fall  Spring  Summer  Winter\n",
       "City                                 \n",
       "Chicago  5287    5482    5323    5294\n",
       "Houston  5348    5294    5385    5530\n",
       "Miami    5587    5186    5288    5110"
      ]
     },
     "execution_count": 111,
     "metadata": {},
     "output_type": "execute_result"
    }
   ],
   "source": [
    "selected_cities = [\"Chicago\", \"Houston\", \"Miami\"]\n",
    "filtered_table = sales_by_season.loc[selected_cities]\n",
    "filtered_table"
   ]
  },
  {
   "cell_type": "code",
   "execution_count": 112,
   "metadata": {
    "execution": {
     "iopub.execute_input": "2024-12-08T13:32:52.018292Z",
     "iopub.status.busy": "2024-12-08T13:32:52.017829Z",
     "iopub.status.idle": "2024-12-08T13:32:52.889386Z",
     "shell.execute_reply": "2024-12-08T13:32:52.888206Z",
     "shell.execute_reply.started": "2024-12-08T13:32:52.018248Z"
    }
   },
   "outputs": [
    {
     "data": {
      "image/png": "[encoded data removed]",
      "text/plain": [
       "<Figure size 1200x600 with 2 Axes>"
      ]
     },
     "metadata": {},
     "output_type": "display_data"
    }
   ],
   "source": [
    "plt.figure(figsize=(12, 6))\n",
    "sns.heatmap(filtered_table, annot=True, fmt=\".0f\", \n",
    "            cmap=\"rocket\", cbar_kws={'label': 'Total Sales (Items)'})\n",
    "\n",
    "\n",
    "plt.title(\"Heatmap of Total Sales Across Seasons by City\", fontsize=16)\n",
    "plt.xlabel(\"Season\", fontsize=12)\n",
    "plt.ylabel(\"City\", fontsize=12)\n",
    "plt.xticks(rotation=0, ha='center', fontsize=10)\n",
    "plt.yticks(fontsize=10)\n",
    "plt.tight_layout()\n",
    "\n",
    "\n",
    "plt.savefig('/kaggle/working/06_Total_Sales_Across_Seasons_by_City.png', dpi=300, bbox_inches='tight')\n",
    "plt.show()"
   ]
  },
  {
   "cell_type": "markdown",
   "metadata": {},
   "source": [
    "This data represents seasonal transaction counts across top three cities:\n",
    "\n",
    "> **Chicago:**   - Transactions are relatively stable across seasons, ranging from **5287 (Fall)** to **5482 (Spring)**, with **Spring** having the highest activity.\n",
    ">\n",
    "> **Houston:**   - Transaction counts peak in **Winter (5530)** and are lowest in **Spring (5294)**, showing a notable seasonal variation.\n",
    ">\n",
    "> **Miami:**   - **Fall (5587)** has the highest transactions, while **Winter (5110)** shows the lowest, indicating a decrease in activity during colder months.\n",
    " months.\n",
    "\n",
    "Overall, **Miami** shows the highest fall transactions, **Houston** peaks in winter, and **Chicago** maintains a consistent distribution across seasons."
   ]
  },
  {
   "cell_type": "markdown",
   "metadata": {},
   "source": [
    "## **05. How effective are different promotions in driving higher transaction amounts, and which promotion type performs best in each season?**  ?"
   ]
  },
  {
   "cell_type": "code",
   "execution_count": 113,
   "metadata": {
    "execution": {
     "iopub.execute_input": "2024-12-08T13:32:52.891302Z",
     "iopub.status.busy": "2024-12-08T13:32:52.890898Z",
     "iopub.status.idle": "2024-12-08T13:32:52.905697Z",
     "shell.execute_reply": "2024-12-08T13:32:52.904504Z",
     "shell.execute_reply.started": "2024-12-08T13:32:52.891235Z"
    }
   },
   "outputs": [
    {
     "data": {
      "text/html": [
       "<div>\n",
       "<style scoped>\n",
       "    .dataframe tbody tr th:only-of-type {\n",
       "        vertical-align: middle;\n",
       "    }\n",
       "\n",
       "    .dataframe tbody tr th {\n",
       "        vertical-align: top;\n",
       "    }\n",
       "\n",
       "    .dataframe thead th {\n",
       "        text-align: right;\n",
       "    }\n",
       "</style>\n",
       "<table border=\"1\" class=\"dataframe\">\n",
       "  <thead>\n",
       "    <tr style=\"text-align: right;\">\n",
       "      <th></th>\n",
       "      <th>Transaction_ID</th>\n",
       "      <th>Total_Items</th>\n",
       "      <th>Amount($)</th>\n",
       "      <th>Payment_Method</th>\n",
       "      <th>City</th>\n",
       "      <th>Store_Type</th>\n",
       "      <th>Discount_Applied</th>\n",
       "      <th>Customer_Category</th>\n",
       "      <th>Season</th>\n",
       "      <th>Promotion</th>\n",
       "    </tr>\n",
       "  </thead>\n",
       "  <tbody>\n",
       "    <tr>\n",
       "      <th>0</th>\n",
       "      <td>1000667075</td>\n",
       "      <td>5</td>\n",
       "      <td>30.98</td>\n",
       "      <td>Debit Card</td>\n",
       "      <td>Chicago</td>\n",
       "      <td>Warehouse Club</td>\n",
       "      <td>True</td>\n",
       "      <td>Teenager</td>\n",
       "      <td>Fall</td>\n",
       "      <td>BOGO (Buy One Get One)</td>\n",
       "    </tr>\n",
       "    <tr>\n",
       "      <th>1</th>\n",
       "      <td>1000156022</td>\n",
       "      <td>3</td>\n",
       "      <td>23.29</td>\n",
       "      <td>Credit Card</td>\n",
       "      <td>Boston</td>\n",
       "      <td>Warehouse Club</td>\n",
       "      <td>True</td>\n",
       "      <td>Homemaker</td>\n",
       "      <td>Winter</td>\n",
       "      <td>Discount on Selected Items</td>\n",
       "    </tr>\n",
       "  </tbody>\n",
       "</table>\n",
       "</div>"
      ],
      "text/plain": [
       "   Transaction_ID  Total_Items  Amount($) Payment_Method     City  \\\n",
       "0      1000667075            5      30.98     Debit Card  Chicago   \n",
       "1      1000156022            3      23.29    Credit Card   Boston   \n",
       "\n",
       "       Store_Type  Discount_Applied Customer_Category  Season  \\\n",
       "0  Warehouse Club              True          Teenager    Fall   \n",
       "1  Warehouse Club              True         Homemaker  Winter   \n",
       "\n",
       "                    Promotion  \n",
       "0      BOGO (Buy One Get One)  \n",
       "1  Discount on Selected Items  "
      ]
     },
     "execution_count": 113,
     "metadata": {},
     "output_type": "execute_result"
    }
   ],
   "source": [
    "df.head(2)"
   ]
  },
  {
   "cell_type": "code",
   "execution_count": 114,
   "metadata": {
    "execution": {
     "iopub.execute_input": "2024-12-08T13:32:52.907744Z",
     "iopub.status.busy": "2024-12-08T13:32:52.907331Z",
     "iopub.status.idle": "2024-12-08T13:32:52.929881Z",
     "shell.execute_reply": "2024-12-08T13:32:52.928800Z",
     "shell.execute_reply.started": "2024-12-08T13:32:52.907710Z"
    }
   },
   "outputs": [
    {
     "data": {
      "text/html": [
       "<div>\n",
       "<style scoped>\n",
       "    .dataframe tbody tr th:only-of-type {\n",
       "        vertical-align: middle;\n",
       "    }\n",
       "\n",
       "    .dataframe tbody tr th {\n",
       "        vertical-align: top;\n",
       "    }\n",
       "\n",
       "    .dataframe thead th {\n",
       "        text-align: right;\n",
       "    }\n",
       "</style>\n",
       "<table border=\"1\" class=\"dataframe\">\n",
       "  <thead>\n",
       "    <tr style=\"text-align: right;\">\n",
       "      <th></th>\n",
       "      <th>Transaction_ID</th>\n",
       "      <th>Amount($)</th>\n",
       "      <th>Season</th>\n",
       "      <th>Promotion</th>\n",
       "    </tr>\n",
       "  </thead>\n",
       "  <tbody>\n",
       "    <tr>\n",
       "      <th>0</th>\n",
       "      <td>1000667075</td>\n",
       "      <td>30.98</td>\n",
       "      <td>Fall</td>\n",
       "      <td>BOGO (Buy One Get One)</td>\n",
       "    </tr>\n",
       "    <tr>\n",
       "      <th>1</th>\n",
       "      <td>1000156022</td>\n",
       "      <td>23.29</td>\n",
       "      <td>Winter</td>\n",
       "      <td>Discount on Selected Items</td>\n",
       "    </tr>\n",
       "    <tr>\n",
       "      <th>2</th>\n",
       "      <td>1000681674</td>\n",
       "      <td>25.62</td>\n",
       "      <td>Fall</td>\n",
       "      <td>Discount on Selected Items</td>\n",
       "    </tr>\n",
       "    <tr>\n",
       "      <th>3</th>\n",
       "      <td>1000692089</td>\n",
       "      <td>14.64</td>\n",
       "      <td>Summer</td>\n",
       "      <td>Discount on Selected Items</td>\n",
       "    </tr>\n",
       "    <tr>\n",
       "      <th>4</th>\n",
       "      <td>1000328702</td>\n",
       "      <td>62.27</td>\n",
       "      <td>Summer</td>\n",
       "      <td>NaN</td>\n",
       "    </tr>\n",
       "  </tbody>\n",
       "</table>\n",
       "</div>"
      ],
      "text/plain": [
       "   Transaction_ID  Amount($)  Season                   Promotion\n",
       "0      1000667075      30.98    Fall      BOGO (Buy One Get One)\n",
       "1      1000156022      23.29  Winter  Discount on Selected Items\n",
       "2      1000681674      25.62    Fall  Discount on Selected Items\n",
       "3      1000692089      14.64  Summer  Discount on Selected Items\n",
       "4      1000328702      62.27  Summer                         NaN"
      ]
     },
     "execution_count": 114,
     "metadata": {},
     "output_type": "execute_result"
    }
   ],
   "source": [
    "columns_to_drop_05 = ['Total_Items','Payment_Method','City',\n",
    "                      'Store_Type','Discount_Applied','Customer_Category']\n",
    "\n",
    "df_05 = df.drop(columns=columns_to_drop_05)\n",
    "df_05.head()"
   ]
  },
  {
   "cell_type": "code",
   "execution_count": 115,
   "metadata": {
    "execution": {
     "iopub.execute_input": "2024-12-08T13:32:52.931689Z",
     "iopub.status.busy": "2024-12-08T13:32:52.931323Z",
     "iopub.status.idle": "2024-12-08T13:32:52.940594Z",
     "shell.execute_reply": "2024-12-08T13:32:52.939699Z",
     "shell.execute_reply.started": "2024-12-08T13:32:52.931620Z"
    }
   },
   "outputs": [],
   "source": [
    "df_05['Promotion'] = df_05['Promotion'].fillna('No Promotion')"
   ]
  },
  {
   "cell_type": "code",
   "execution_count": 116,
   "metadata": {
    "execution": {
     "iopub.execute_input": "2024-12-08T13:32:52.942460Z",
     "iopub.status.busy": "2024-12-08T13:32:52.942039Z",
     "iopub.status.idle": "2024-12-08T13:32:52.958609Z",
     "shell.execute_reply": "2024-12-08T13:32:52.957387Z",
     "shell.execute_reply.started": "2024-12-08T13:32:52.942412Z"
    }
   },
   "outputs": [
    {
     "data": {
      "text/plain": [
       "array(['BOGO (Buy One Get One)', 'Discount on Selected Items',\n",
       "       'No Promotion'], dtype=object)"
      ]
     },
     "execution_count": 116,
     "metadata": {},
     "output_type": "execute_result"
    }
   ],
   "source": [
    "df_05[\"Promotion\"].unique()"
   ]
  },
  {
   "cell_type": "code",
   "execution_count": 117,
   "metadata": {
    "execution": {
     "iopub.execute_input": "2024-12-08T13:32:52.960311Z",
     "iopub.status.busy": "2024-12-08T13:32:52.959982Z",
     "iopub.status.idle": "2024-12-08T13:32:52.971948Z",
     "shell.execute_reply": "2024-12-08T13:32:52.970591Z",
     "shell.execute_reply.started": "2024-12-08T13:32:52.960280Z"
    }
   },
   "outputs": [
    {
     "data": {
      "text/plain": [
       "52.45984311688312"
      ]
     },
     "execution_count": 117,
     "metadata": {},
     "output_type": "execute_result"
    }
   ],
   "source": [
    "mean_amonunt=df_05[\"Amount($)\"].mean()\n",
    "mean_amount"
   ]
  },
  {
   "cell_type": "code",
   "execution_count": 118,
   "metadata": {
    "execution": {
     "iopub.execute_input": "2024-12-08T13:32:52.974330Z",
     "iopub.status.busy": "2024-12-08T13:32:52.973834Z",
     "iopub.status.idle": "2024-12-08T13:32:52.989871Z",
     "shell.execute_reply": "2024-12-08T13:32:52.988480Z",
     "shell.execute_reply.started": "2024-12-08T13:32:52.974276Z"
    }
   },
   "outputs": [
    {
     "name": "stdout",
     "output_type": "stream",
     "text": [
      "(19190, 4)\n",
      "These is the filtered dataframe for high value transaction\n"
     ]
    }
   ],
   "source": [
    "high_value_transaction = df_05[df_05[\"Amount($)\"]>mean_amount]\n",
    "\n",
    "print(high_value_transaction.shape)\n",
    "print(\"These is the filtered dataframe for high value transaction\")"
   ]
  },
  {
   "cell_type": "code",
   "execution_count": 119,
   "metadata": {
    "execution": {
     "iopub.execute_input": "2024-12-08T13:32:52.991761Z",
     "iopub.status.busy": "2024-12-08T13:32:52.991342Z",
     "iopub.status.idle": "2024-12-08T13:32:53.015621Z",
     "shell.execute_reply": "2024-12-08T13:32:53.014391Z",
     "shell.execute_reply.started": "2024-12-08T13:32:52.991725Z"
    }
   },
   "outputs": [
    {
     "data": {
      "text/html": [
       "<div>\n",
       "<style scoped>\n",
       "    .dataframe tbody tr th:only-of-type {\n",
       "        vertical-align: middle;\n",
       "    }\n",
       "\n",
       "    .dataframe tbody tr th {\n",
       "        vertical-align: top;\n",
       "    }\n",
       "\n",
       "    .dataframe thead th {\n",
       "        text-align: right;\n",
       "    }\n",
       "</style>\n",
       "<table border=\"1\" class=\"dataframe\">\n",
       "  <thead>\n",
       "    <tr style=\"text-align: right;\">\n",
       "      <th></th>\n",
       "      <th>Transaction_ID</th>\n",
       "      <th>Amount($)</th>\n",
       "      <th>Season</th>\n",
       "      <th>Promotion</th>\n",
       "    </tr>\n",
       "  </thead>\n",
       "  <tbody>\n",
       "    <tr>\n",
       "      <th>2645</th>\n",
       "      <td>1000408241</td>\n",
       "      <td>100.00</td>\n",
       "      <td>Summer</td>\n",
       "      <td>Discount on Selected Items</td>\n",
       "    </tr>\n",
       "    <tr>\n",
       "      <th>29771</th>\n",
       "      <td>1000531045</td>\n",
       "      <td>100.00</td>\n",
       "      <td>Summer</td>\n",
       "      <td>BOGO (Buy One Get One)</td>\n",
       "    </tr>\n",
       "    <tr>\n",
       "      <th>12181</th>\n",
       "      <td>1000591212</td>\n",
       "      <td>100.00</td>\n",
       "      <td>Fall</td>\n",
       "      <td>No Promotion</td>\n",
       "    </tr>\n",
       "    <tr>\n",
       "      <th>16789</th>\n",
       "      <td>1000341701</td>\n",
       "      <td>99.99</td>\n",
       "      <td>Fall</td>\n",
       "      <td>No Promotion</td>\n",
       "    </tr>\n",
       "    <tr>\n",
       "      <th>35217</th>\n",
       "      <td>1000966260</td>\n",
       "      <td>99.99</td>\n",
       "      <td>Fall</td>\n",
       "      <td>BOGO (Buy One Get One)</td>\n",
       "    </tr>\n",
       "    <tr>\n",
       "      <th>...</th>\n",
       "      <td>...</td>\n",
       "      <td>...</td>\n",
       "      <td>...</td>\n",
       "      <td>...</td>\n",
       "    </tr>\n",
       "    <tr>\n",
       "      <th>15011</th>\n",
       "      <td>1000658998</td>\n",
       "      <td>52.47</td>\n",
       "      <td>Fall</td>\n",
       "      <td>Discount on Selected Items</td>\n",
       "    </tr>\n",
       "    <tr>\n",
       "      <th>28990</th>\n",
       "      <td>1000140374</td>\n",
       "      <td>52.47</td>\n",
       "      <td>Summer</td>\n",
       "      <td>Discount on Selected Items</td>\n",
       "    </tr>\n",
       "    <tr>\n",
       "      <th>21520</th>\n",
       "      <td>1000099845</td>\n",
       "      <td>52.47</td>\n",
       "      <td>Winter</td>\n",
       "      <td>Discount on Selected Items</td>\n",
       "    </tr>\n",
       "    <tr>\n",
       "      <th>487</th>\n",
       "      <td>1000518133</td>\n",
       "      <td>52.47</td>\n",
       "      <td>Summer</td>\n",
       "      <td>Discount on Selected Items</td>\n",
       "    </tr>\n",
       "    <tr>\n",
       "      <th>36119</th>\n",
       "      <td>1000553050</td>\n",
       "      <td>52.46</td>\n",
       "      <td>Fall</td>\n",
       "      <td>BOGO (Buy One Get One)</td>\n",
       "    </tr>\n",
       "  </tbody>\n",
       "</table>\n",
       "<p>19190 rows × 4 columns</p>\n",
       "</div>"
      ],
      "text/plain": [
       "       Transaction_ID  Amount($)  Season                   Promotion\n",
       "2645       1000408241     100.00  Summer  Discount on Selected Items\n",
       "29771      1000531045     100.00  Summer      BOGO (Buy One Get One)\n",
       "12181      1000591212     100.00    Fall                No Promotion\n",
       "16789      1000341701      99.99    Fall                No Promotion\n",
       "35217      1000966260      99.99    Fall      BOGO (Buy One Get One)\n",
       "...               ...        ...     ...                         ...\n",
       "15011      1000658998      52.47    Fall  Discount on Selected Items\n",
       "28990      1000140374      52.47  Summer  Discount on Selected Items\n",
       "21520      1000099845      52.47  Winter  Discount on Selected Items\n",
       "487        1000518133      52.47  Summer  Discount on Selected Items\n",
       "36119      1000553050      52.46    Fall      BOGO (Buy One Get One)\n",
       "\n",
       "[19190 rows x 4 columns]"
      ]
     },
     "execution_count": 119,
     "metadata": {},
     "output_type": "execute_result"
    }
   ],
   "source": [
    "high_value_transaction.sort_values(by=\"Amount($)\",ascending = False)"
   ]
  },
  {
   "cell_type": "code",
   "execution_count": 120,
   "metadata": {
    "execution": {
     "iopub.execute_input": "2024-12-08T13:32:53.017736Z",
     "iopub.status.busy": "2024-12-08T13:32:53.017259Z",
     "iopub.status.idle": "2024-12-08T13:32:53.027211Z",
     "shell.execute_reply": "2024-12-08T13:32:53.026179Z",
     "shell.execute_reply.started": "2024-12-08T13:32:53.017688Z"
    }
   },
   "outputs": [
    {
     "name": "stdout",
     "output_type": "stream",
     "text": [
      "Promotion\n",
      "BOGO (Buy One Get One)        6372\n",
      "Discount on Selected Items    6388\n",
      "No Promotion                  6430\n",
      "Name: Transaction_ID, dtype: int64\n"
     ]
    }
   ],
   "source": [
    "# Group by 'Promotion' and counting the number of transactions\n",
    "transactions_per_promotion = high_value_transaction.groupby('Promotion')['Transaction_ID'].count()\n",
    "\n",
    "print(transactions_per_promotion)"
   ]
  },
  {
   "cell_type": "markdown",
   "metadata": {},
   "source": [
    "> The data shows that most transactions happen without any promotion (6,430), followed by those with a \"Discount on Selected Items\" (6,388) and \"BOGO\" (6,372). This suggests that while promotions can encourage people to buy, many purchases still happen without any special offers, meaning other factors like need or product appeal also play a big role."
   ]
  },
  {
   "cell_type": "code",
   "execution_count": 121,
   "metadata": {
    "execution": {
     "iopub.execute_input": "2024-12-08T13:32:53.028842Z",
     "iopub.status.busy": "2024-12-08T13:32:53.028498Z",
     "iopub.status.idle": "2024-12-08T13:32:53.051965Z",
     "shell.execute_reply": "2024-12-08T13:32:53.050744Z",
     "shell.execute_reply.started": "2024-12-08T13:32:53.028809Z"
    }
   },
   "outputs": [
    {
     "data": {
      "text/html": [
       "<div>\n",
       "<style scoped>\n",
       "    .dataframe tbody tr th:only-of-type {\n",
       "        vertical-align: middle;\n",
       "    }\n",
       "\n",
       "    .dataframe tbody tr th {\n",
       "        vertical-align: top;\n",
       "    }\n",
       "\n",
       "    .dataframe thead th {\n",
       "        text-align: right;\n",
       "    }\n",
       "</style>\n",
       "<table border=\"1\" class=\"dataframe\">\n",
       "  <thead>\n",
       "    <tr style=\"text-align: right;\">\n",
       "      <th>Promotion</th>\n",
       "      <th>BOGO (Buy One Get One)</th>\n",
       "      <th>Discount on Selected Items</th>\n",
       "      <th>No Promotion</th>\n",
       "    </tr>\n",
       "    <tr>\n",
       "      <th>Season</th>\n",
       "      <th></th>\n",
       "      <th></th>\n",
       "      <th></th>\n",
       "    </tr>\n",
       "  </thead>\n",
       "  <tbody>\n",
       "    <tr>\n",
       "      <th>Fall</th>\n",
       "      <td>121315.28</td>\n",
       "      <td>122068.94</td>\n",
       "      <td>123084.42</td>\n",
       "    </tr>\n",
       "    <tr>\n",
       "      <th>Spring</th>\n",
       "      <td>121080.44</td>\n",
       "      <td>125415.04</td>\n",
       "      <td>122392.07</td>\n",
       "    </tr>\n",
       "    <tr>\n",
       "      <th>Summer</th>\n",
       "      <td>124757.79</td>\n",
       "      <td>120471.53</td>\n",
       "      <td>122663.40</td>\n",
       "    </tr>\n",
       "    <tr>\n",
       "      <th>Winter</th>\n",
       "      <td>121204.90</td>\n",
       "      <td>117847.91</td>\n",
       "      <td>122369.21</td>\n",
       "    </tr>\n",
       "  </tbody>\n",
       "</table>\n",
       "</div>"
      ],
      "text/plain": [
       "Promotion  BOGO (Buy One Get One)  Discount on Selected Items  No Promotion\n",
       "Season                                                                     \n",
       "Fall                    121315.28                   122068.94     123084.42\n",
       "Spring                  121080.44                   125415.04     122392.07\n",
       "Summer                  124757.79                   120471.53     122663.40\n",
       "Winter                  121204.90                   117847.91     122369.21"
      ]
     },
     "execution_count": 121,
     "metadata": {},
     "output_type": "execute_result"
    }
   ],
   "source": [
    "total_amount = high_value_transaction.groupby(['Season', 'Promotion'])['Amount($)'].sum().unstack()\n",
    "total_amount"
   ]
  },
  {
   "cell_type": "code",
   "execution_count": 122,
   "metadata": {
    "execution": {
     "iopub.execute_input": "2024-12-08T13:32:53.053535Z",
     "iopub.status.busy": "2024-12-08T13:32:53.053144Z",
     "iopub.status.idle": "2024-12-08T13:32:53.062692Z",
     "shell.execute_reply": "2024-12-08T13:32:53.061511Z",
     "shell.execute_reply.started": "2024-12-08T13:32:53.053501Z"
    }
   },
   "outputs": [
    {
     "data": {
      "text/plain": [
       "Season\n",
       "Fall                    No Promotion\n",
       "Spring    Discount on Selected Items\n",
       "Summer        BOGO (Buy One Get One)\n",
       "Winter                  No Promotion\n",
       "dtype: object"
      ]
     },
     "execution_count": 122,
     "metadata": {},
     "output_type": "execute_result"
    }
   ],
   "source": [
    "best_promotions = total_amount.idxmax(axis=1)\n",
    "best_promotions"
   ]
  },
  {
   "cell_type": "code",
   "execution_count": 123,
   "metadata": {
    "execution": {
     "iopub.execute_input": "2024-12-08T13:32:53.065117Z",
     "iopub.status.busy": "2024-12-08T13:32:53.064227Z",
     "iopub.status.idle": "2024-12-08T13:32:54.240870Z",
     "shell.execute_reply": "2024-12-08T13:32:54.239655Z",
     "shell.execute_reply.started": "2024-12-08T13:32:53.065051Z"
    }
   },
   "outputs": [
    {
     "data": {
      "image/png": "[encoded data removed]",
      "text/plain": [
       "<Figure size 1200x600 with 2 Axes>"
      ]
     },
     "metadata": {},
     "output_type": "display_data"
    }
   ],
   "source": [
    "plt.figure(figsize=(12, 6))\n",
    "sns.heatmap(total_amount, annot=True, cmap=\"rocket\", fmt='.2f', linewidths=0.5)\n",
    "\n",
    "# Customizing the plot\n",
    "plt.title('Transaction Amount by Promotion and Season', fontsize=16)\n",
    "plt.xlabel('Promotion', fontsize=12)\n",
    "plt.ylabel('Season', fontsize=12)\n",
    "\n",
    "# Show the plot\n",
    "plt.tight_layout()\n",
    "\n",
    "plt.savefig('/kaggle/working/07_Transaction_Amount_by_Promo_Season.png', dpi=300, bbox_inches='tight')\n",
    "plt.show()"
   ]
  },
  {
   "cell_type": "markdown",
   "metadata": {},
   "source": [
    "This data shows sales revenue across four seasons for three types of promotions:\n",
    "**No Promotion:**  \n",
    "   - Revenue remains consistent across all seasons, ranging from **122,369.21 (Winter)** to **123,084.42 (Fall)**.  \n",
    "   - **Fall** generated the highest revenue without promotions.  \n",
    "2. **BOGO (Buy One Get One):**  \n",
    "   - **Summer (124,757.79)** saw the highest revenue, while **Spring (121,080.44)** had the lowest.  \n",
    "   - BOGO performs better in warmer seasons like **Summer* \n",
    "\n",
    "3. **Discount on Selected Items:**  \n",
    "   - **Spring (125,415.04)** generated the highest revenue, while **Winter (117,847.91)** was the lowest.  \n",
    "   - Discounts on selected ite best during Spring. perform best during **Spring**.\n",
    "\n",
    "Overall, **Spring** and **Summer** tend to drive higher revenues with promotions, while **Fall** performs well even without promotions."
   ]
  }
 ],
 "metadata": {
  "kaggle": {
   "accelerator": "none",
   "dataSources": [
    {
     "datasetId": 6222093,
     "sourceId": 10090574,
     "sourceType": "datasetVersion"
    }
   ],
   "dockerImageVersionId": 30804,
   "isGpuEnabled": false,
   "isInternetEnabled": true,
   "language": "python",
   "sourceType": "notebook"
  },
  "kernelspec": {
   "display_name": "Python 3 (ipykernel)",
   "language": "python",
   "name": "python3"
  },
  "language_info": {
   "codemirror_mode": {
    "name": "ipython",
    "version": 3
   },
   "file_extension": ".py",
   "mimetype": "text/x-python",
   "name": "python",
   "nbconvert_exporter": "python",
   "pygments_lexer": "ipython3",
   "version": "3.9.13"
  }
 },
 "nbformat": 4,
 "nbformat_minor": 4
}
